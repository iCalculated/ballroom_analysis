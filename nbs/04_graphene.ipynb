{
 "cells": [
  {
   "cell_type": "markdown",
   "metadata": {},
   "source": [
    "## Hello ~~World~~ GraphQL"
   ]
  },
  {
   "cell_type": "code",
   "execution_count": 1,
   "metadata": {},
   "outputs": [],
   "source": [
    "import graphene\n",
    "\n",
    "class Query(graphene.ObjectType):\n",
    "    hello = graphene.String(description='A typical hello world')\n",
    "\n",
    "    def resolve_hello(self, info):\n",
    "        return 'World'\n",
    "\n",
    "schema = graphene.Schema(query=Query)"
   ]
  },
  {
   "cell_type": "code",
   "execution_count": 3,
   "metadata": {},
   "outputs": [
    {
     "data": {
      "text/plain": [
       "ExecutionResult(data={'hello': 'World'}, errors=None)"
      ]
     },
     "execution_count": 3,
     "metadata": {},
     "output_type": "execute_result"
    }
   ],
   "source": [
    "query = '''\n",
    "    query SayHello {\n",
    "      hello\n",
    "    }\n",
    "'''\n",
    "result = schema.execute(query)\n",
    "result"
   ]
  },
  {
   "cell_type": "markdown",
   "metadata": {},
   "source": [
    "## Schema"
   ]
  },
  {
   "cell_type": "code",
   "execution_count": 6,
   "metadata": {},
   "outputs": [],
   "source": [
    "import graphene\n",
    "from graphene import List, NonNull, String, ID, Int\n",
    "\n",
    "class Level(graphene.Enum):\n",
    "    NEWCOMER = 1\n",
    "    PREBRONZE = 2\n",
    "    BRONZE = 3\n",
    "    SILVER = 4\n",
    "    GOLD = 5\n",
    "    NOVELL = 6\n",
    "    PRECHAMP = 7\n",
    "    CHAMP = 8\n",
    "\n",
    "class Style(graphene.Enum):\n",
    "    LATIN = 1\n",
    "    RHYTHM = 2\n",
    "    STANDARD = 3\n",
    "    SMOOTH = 4\n",
    "\n",
    "class Dance(graphene.ObjectType):\n",
    "    name: NonNull(String)\n",
    "    style: Style\n",
    "\n",
    "class Event(graphene.ObjectType):\n",
    "    id = ID()\n",
    "    division = String()\n",
    "    level: NonNull(Level)\n",
    "    dances: NonNull(List(NonNull(Dance)))\n",
    "\n",
    "class Placement(graphene.ObjectType):\n",
    "    place: NonNull(Int)\n",
    "    tied_through: Int\n",
    "\n",
    "class Round(graphene.ObjectType):\n",
    "    name: NonNull(String)\n",
    "    marks: Int\n",
    "\n",
    "class DanceResult(graphene.ObjectType):\n",
    "    dance: NonNull(Dance)\n",
    "    place: NonNull(Placement)\n",
    "    rounds: NonNull(List(NonNull(Round)))\n",
    "    \n",
    "class EventResult(graphene.ObjectType):\n",
    "    couple: NonNull(Couple)\n",
    "    event: NonNull(Event)\n",
    "    place: NonNull(Placement)\n",
    "    results: NonNull(List(NonNull(DanceResult)))\n",
    "\n",
    "class Dancer(graphene.ObjectType):\n",
    "    id = ID()\n",
    "    name: NonNull(String)\n",
    "\n",
    "class Team(graphene.ObjectType):\n",
    "    id = ID()\n",
    "    name: NonNull(String)\n",
    "    dancers: NonNull(List(NonNull(Dancer)))\n",
    "\n",
    "class Couple(graphene.ObjectType):\n",
    "    id = ID()\n",
    "    lead: Dancer\n",
    "    follow: Dancer"
   ]
  },
  {
   "cell_type": "code",
   "execution_count": null,
   "metadata": {},
   "outputs": [],
   "source": []
  },
  {
   "cell_type": "code",
   "execution_count": null,
   "metadata": {},
   "outputs": [],
   "source": []
  }
 ],
 "metadata": {
  "kernelspec": {
   "display_name": "env",
   "language": "python",
   "name": "python3"
  },
  "language_info": {
   "codemirror_mode": {
    "name": "ipython",
    "version": 3
   },
   "file_extension": ".py",
   "mimetype": "text/x-python",
   "name": "python",
   "nbconvert_exporter": "python",
   "pygments_lexer": "ipython3",
   "version": "3.10.10"
  }
 },
 "nbformat": 4,
 "nbformat_minor": 2
}
