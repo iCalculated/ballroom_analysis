{
 "cells": [
  {
   "cell_type": "code",
   "execution_count": 1,
   "metadata": {},
   "outputs": [],
   "source": [
    "import graphene\n",
    "\n",
    "class Query(graphene.ObjectType):\n",
    "    hello = graphene.String(description='A typical hello world')\n",
    "\n",
    "    def resolve_hello(self, info):\n",
    "        return 'World'\n",
    "\n",
    "schema = graphene.Schema(query=Query)"
   ]
  },
  {
   "cell_type": "code",
   "execution_count": 2,
   "metadata": {},
   "outputs": [],
   "source": [
    "query = '''\n",
    "    query SayHello {\n",
    "      hello\n",
    "    }\n",
    "'''\n",
    "result = schema.execute(query)"
   ]
  },
  {
   "cell_type": "code",
   "execution_count": null,
   "metadata": {},
   "outputs": [],
   "source": []
  }
 ],
 "metadata": {
  "kernelspec": {
   "display_name": "env",
   "language": "python",
   "name": "python3"
  },
  "language_info": {
   "codemirror_mode": {
    "name": "ipython",
    "version": 3
   },
   "file_extension": ".py",
   "mimetype": "text/x-python",
   "name": "python",
   "nbconvert_exporter": "python",
   "pygments_lexer": "ipython3",
   "version": "3.10.10"
  }
 },
 "nbformat": 4,
 "nbformat_minor": 2
}
