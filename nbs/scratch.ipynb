{
 "cells": [
  {
   "cell_type": "raw",
   "metadata": {},
   "source": [
    "---\n",
    "skip_exec: true\n",
    "skip_showdoc: true\n",
    "---"
   ]
  },
  {
   "cell_type": "code",
   "execution_count": null,
   "metadata": {
    "vscode": {
     "languageId": "python"
    }
   },
   "outputs": [],
   "source": [
    "\n",
    "%load_ext autoreload\n",
    "%autoreload 2"
   ]
  },
  {
   "cell_type": "code",
   "execution_count": null,
   "metadata": {
    "vscode": {
     "languageId": "python"
    }
   },
   "outputs": [
    {
     "name": "stdout",
     "output_type": "stream",
     "text": [
      "Amateur Collegiate Gold Standard\n",
      "Amateur Collegiate Silver Rhythm\n",
      "Amateur Collegiate Gold Rhythm\n",
      "Amateur Adult Silver Rhythm\n",
      "Amateur Collegiate Silver Standard\n",
      "Amateur Collegiate Silver Intl. Tango\n",
      "Amateur Collegiate All Syllabus Standard\n",
      "Amateur Adult Silver Intl. V. Waltz\n",
      "Amateur Adult Silver Standard\n",
      "Amateur Adult Silver Intl. Tango\n",
      "Amateur Collegiate Silver Smooth\n",
      "Amateur Adult Gold Smooth\n",
      "Amateur Collegiate Gold Smooth\n",
      "Amateur Adult Novice Smooth\n",
      "Amateur Adult Silver Latin\n",
      "Amateur Collegiate Silver Latin\n",
      "Amateur Collegiate Bronze Latin\n",
      "Amateur Adult Bronze 1 Latin\n",
      "Amateur Adult Bronze Latin\n",
      "detected single-event\n",
      "calculating event-wise score\n"
     ]
    }
   ],
   "source": [
    "from ballroom_analysis.scoring import *\n",
    "from ballroom_analysis.scraping import * "
   ]
  },
  {
   "cell_type": "code",
   "execution_count": null,
   "metadata": {
    "vscode": {
     "languageId": "python"
    }
   },
   "outputs": [],
   "source": [
    "\n",
    "name = \"Irena Wilson\"\n",
    "soup = get_event_list_html(name)\n",
    "events = extract_events_from_html(soup)\n"
   ]
  },
  {
   "cell_type": "code",
   "execution_count": null,
   "metadata": {
    "vscode": {
     "languageId": "python"
    }
   },
   "outputs": [],
   "source": [
    "\n",
    "results = [get_event_result(name, event_url) for _, event_url in events]"
   ]
  },
  {
   "cell_type": "code",
   "execution_count": null,
   "metadata": {
    "vscode": {
     "languageId": "python"
    }
   },
   "outputs": [
    {
     "name": "stdout",
     "output_type": "stream",
     "text": [
      "Amateur Collegiate Gold Standard\n",
      "Amateur Collegiate Silver Rhythm\n",
      "Amateur Collegiate Gold Rhythm\n",
      "Amateur Adult Silver Rhythm\n",
      "Amateur Collegiate Silver Standard\n",
      "Amateur Collegiate Silver Intl. Tango\n",
      "Amateur Collegiate All Syllabus Standard\n",
      "Amateur Adult Silver Intl. V. Waltz\n",
      "Amateur Adult Silver Standard\n",
      "Amateur Adult Silver Intl. Tango\n",
      "Amateur Collegiate Silver Smooth\n",
      "Amateur Adult Gold Smooth\n",
      "Amateur Collegiate Gold Smooth\n",
      "Amateur Adult Novice Smooth\n",
      "Amateur Adult Silver Latin\n",
      "Amateur Collegiate Silver Latin\n",
      "Amateur Collegiate Bronze Latin\n",
      "Amateur Adult Bronze 1 Latin\n",
      "Amateur Adult Bronze Latin\n",
      "detected single-event\n",
      "calculating event-wise score\n",
      "In Amateur Adult Pre-Bronze Latin, Irena got 0 callbacks and placed 2.0 (2 dances)\n",
      "\tscored 66.0\n",
      "In Amateur Collegiate Bronze Rhythm, Irena got 3 callbacks and placed 6.0 (2 dances)\n",
      "\tscored 67.0\n",
      "In Amateur Collegiate Bronze 1 Rhythm, Irena got 3 callbacks and placed 4.0 (2 dances)\n",
      "\tscored 71.0\n",
      "In Amateur Adult Bronze Rhythm, Irena got 3 callbacks and placed 1.0 (2 dances)\n",
      "\tscored 77.0\n",
      "In Amateur Adult Bronze 1 Rhythm, Irena got 3 callbacks and placed 1.0 (2 dances)\n",
      "\tscored 77.0\n",
      "In Amateur Adult Bronze Standard, Irena got 3 callbacks and placed 6.0 (2 dances)\n",
      "\tscored 67.0\n",
      "In Amateur Adult Bronze 1 Standard, Irena got 3 callbacks and placed 6.0 (2 dances)\n",
      "\tscored 67.0\n",
      "In Amateur Adult Novice Standard, Irena got 2 callbacks and placed 5.0 (3 dances)\n",
      "\tscored 96.0\n",
      "In Amateur Adult Pre-Champ Standard, Irena got 1 callbacks and placed 7.0 (4 dances)\n",
      "\tscored 115.0\n",
      "In Amateur Collegiate Bronze Smooth, Irena got 3 callbacks and placed 7.0 (2 dances)\n",
      "\tscored 65.0\n",
      "In Amateur Collegiate Bronze 1 Smooth, Irena got 2 callbacks (1 dances)\n",
      "\tscored 41\n",
      "In Amateur Adult Bronze 1 Smooth, Irena got 3 callbacks and placed 1.0 (1 dances)\n",
      "\tscored 43.0\n",
      "In Amateur Adult Bronze Smooth, Irena got 3 callbacks and placed 3.0 (2 dances)\n",
      "\tscored 73.0\n"
     ]
    }
   ],
   "source": [
    "\n",
    "for (event_name, event_url), result in zip(events, results):\n",
    "    if result.placement:\n",
    "        print(f\"In {event_name}, {name.split()[0]} got {result.callbacks} callbacks and placed {result.placement} ({result.num_dances} dances)\")\n",
    "        print(f\"\\tscored {score_result(result)}\")\n",
    "    else:\n",
    "        print(f\"In {event_name}, {name.split()[0]} got {result.callbacks} callbacks ({result.num_dances} dances)\")\n",
    "        print(f\"\\tscored {score_result(result)}\")"
   ]
  },
  {
   "cell_type": "code",
   "execution_count": null,
   "metadata": {
    "vscode": {
     "languageId": "python"
    }
   },
   "outputs": [
    {
     "name": "stdout",
     "output_type": "stream",
     "text": [
      "Amateur Collegiate Gold Standard\n",
      "Amateur Collegiate Silver Rhythm\n",
      "Amateur Collegiate Gold Rhythm\n",
      "Amateur Adult Silver Rhythm\n",
      "Amateur Collegiate Silver Standard\n",
      "Amateur Collegiate Silver Intl. Tango\n",
      "Amateur Collegiate All Syllabus Standard\n",
      "Amateur Adult Silver Intl. V. Waltz\n",
      "Amateur Adult Silver Standard\n",
      "Amateur Adult Silver Intl. Tango\n",
      "Amateur Collegiate Silver Smooth\n",
      "Amateur Adult Gold Smooth\n",
      "Amateur Collegiate Gold Smooth\n",
      "Amateur Adult Novice Smooth\n",
      "Amateur Adult Silver Latin\n",
      "Amateur Collegiate Silver Latin\n",
      "Amateur Collegiate Bronze Latin\n",
      "Amateur Adult Bronze 1 Latin\n",
      "Amateur Adult Bronze Latin\n",
      "detected single-event\n",
      "calculating event-wise score\n"
     ]
    },
    {
     "data": {
      "text/plain": [
       "461.0"
      ]
     },
     "execution_count": null,
     "metadata": {},
     "output_type": "execute_result"
    }
   ],
   "source": [
    "sum(score_result(result) for result in results)"
   ]
  },
  {
   "cell_type": "code",
   "execution_count": null,
   "metadata": {
    "vscode": {
     "languageId": "python"
    }
   },
   "outputs": [],
   "source": [
    "file_path = \"../data/roster.txt\"\n",
    "\n",
    "with open(file_path, \"r\") as file:\n",
    "    names = file.readlines()\n",
    "\n",
    "names = [name.strip() for name in names]"
   ]
  },
  {
   "cell_type": "code",
   "execution_count": null,
   "metadata": {
    "vscode": {
     "languageId": "python"
    }
   },
   "outputs": [],
   "source": [
    "\n",
    "events_by_name = {name: extract_events_from_html(get_event_list_html(name)) for name in names}"
   ]
  },
  {
   "cell_type": "code",
   "execution_count": null,
   "metadata": {
    "vscode": {
     "languageId": "python"
    }
   },
   "outputs": [],
   "source": [
    "results_by_name = {name: (events, [get_event_result(name, event_url) for _, event_url in events]) \n",
    "                   for name, events in events_by_name.items()}"
   ]
  },
  {
   "cell_type": "code",
   "execution_count": null,
   "metadata": {
    "vscode": {
     "languageId": "python"
    }
   },
   "outputs": [
    {
     "name": "stdout",
     "output_type": "stream",
     "text": [
      "Amateur Collegiate Gold Standard\n",
      "Amateur Collegiate Silver Rhythm\n",
      "Amateur Collegiate Gold Rhythm\n",
      "Amateur Adult Silver Rhythm\n",
      "Amateur Collegiate Silver Standard\n",
      "Amateur Collegiate Silver Intl. Tango\n",
      "Amateur Collegiate All Syllabus Standard\n",
      "Amateur Adult Silver Intl. V. Waltz\n",
      "Amateur Adult Silver Standard\n",
      "Amateur Adult Silver Intl. Tango\n",
      "Amateur Collegiate Silver Smooth\n",
      "Amateur Adult Gold Smooth\n",
      "Amateur Collegiate Gold Smooth\n",
      "Amateur Adult Novice Smooth\n",
      "Amateur Adult Silver Latin\n",
      "Amateur Collegiate Silver Latin\n",
      "Amateur Collegiate Bronze Latin\n",
      "Amateur Adult Bronze 1 Latin\n",
      "Amateur Adult Bronze Latin\n",
      "detected single-event\n",
      "calculating event-wise score\n"
     ]
    }
   ],
   "source": [
    "score_by_name = {name: sum(score_result(result) for result in results) for name, (_, results) in results_by_name.items()}"
   ]
  },
  {
   "cell_type": "code",
   "execution_count": 39,
   "metadata": {
    "vscode": {
     "languageId": "python"
    }
   },
   "outputs": [
    {
     "name": "stdout",
     "output_type": "stream",
     "text": [
      "Echo Nelson: 919.0\n",
      "Carmen Schultz: 820.5\n",
      "Khalid Ali: 809.5\n",
      "Armarion Julien: 708.0\n",
      "Aquarina Hoanca: 602.0\n",
      "Irena Wilson: 600.0\n",
      "Jack Orr: 552.0\n",
      "Tessa Lundheim: 522.0\n",
      "Daniel Kindem: 427.0\n",
      "Kourtney Muus: 355.0\n",
      "Cas Wehring: 325.0\n",
      "Brody Schaffner: 292.0\n",
      "Keding Chen: 276.0\n",
      "Alena Ang: 270.0\n",
      "Mei Abraham: 262.0\n",
      "Allison Jondahl: 201.0\n",
      "Maddie Shaheen: 183.0\n",
      "Sasha Hydrie: 169.0\n",
      "Connor de Bruin: 168\n",
      "Joseph Jackson: 157.0\n",
      "Emma Nahr: 151.0\n",
      "Alexis Villapando: 150\n",
      "Hailey Bargman: 148.0\n",
      "Daniel Han: 136.0\n",
      "Olesia Sarazhynskyy: 123.0\n",
      "Pheng Xiong: 120.0\n",
      "Elizabeth Wahl: 96.0\n",
      "Sydney Goethel: 90\n",
      "Henry Jonas: 69\n",
      "Maya Lindvall: 69\n",
      "Helen Hoang: 66\n",
      "Ryan Lynch: 54\n",
      "Rachel Luban: 48\n",
      "Vaibhav Jain: 45\n",
      "Yadu Kiran: 42\n",
      "Jeffrey Zhao: 36\n",
      "Lev Ostrer: 30\n"
     ]
    }
   ],
   "source": [
    "\n",
    "sorted_scores = sorted(score_by_name.items(), key=lambda x: x[1], reverse=True)\n",
    "for name, score in sorted_scores:\n",
    "    print(f\"{name}: {score}\")"
   ]
  },
  {
   "cell_type": "code",
   "execution_count": 40,
   "metadata": {
    "vscode": {
     "languageId": "python"
    }
   },
   "outputs": [
    {
     "data": {
      "text/plain": [
       "10091.0"
      ]
     },
     "execution_count": 40,
     "metadata": {},
     "output_type": "execute_result"
    }
   ],
   "source": [
    "sum([score for (_, score) in score_by_name.items()])"
   ]
  },
  {
   "cell_type": "markdown",
   "metadata": {},
   "source": [
    "CR shy: this could be significantly sped up by caching events (especially since the vast majority of our dancers are in the same few events). Probably use autocaching in the gets."
   ]
  },
  {
   "cell_type": "code",
   "execution_count": 38,
   "metadata": {
    "vscode": {
     "languageId": "python"
    }
   },
   "outputs": [],
   "source": [
    "extra_names = [\"Jack Orr\",\n",
    "\"Brody Schaffner\",\n",
    "\"Jeffrey Zhao\",]\n",
    "\n",
    "for name in extra_names:\n",
    "    events_by_name[name] = extract_events_from_html(get_event_list_html(name))\n",
    "    results_by_name[name] = (events, [get_event_result(name, event_url) for _, event_url in events_by_name[name]])\n",
    "    score_by_name[name] = sum(score_result(result) for result in results_by_name[name][1])\n",
    "    print(f\"{name}: {score_by_name[name]}\")"
   ]
  },
  {
   "cell_type": "code",
   "execution_count": null,
   "metadata": {
    "vscode": {
     "languageId": "python"
    }
   },
   "outputs": [],
   "source": [
    "delete_names = ['Broderick Schaffner', 'Jeff Zhao']\n",
    "for name in delete_names:\n",
    "    del score_by_name[name]\n",
    "    del results_by_name[name]\n",
    "    del events_by_name[name]"
   ]
  },
  {
   "cell_type": "code",
   "execution_count": null,
   "metadata": {
    "vscode": {
     "languageId": "python"
    }
   },
   "outputs": [],
   "source": []
  }
 ],
 "metadata": {
  "kernelspec": {
   "display_name": "python3",
   "language": "python",
   "name": "python3"
  }
 },
 "nbformat": 4,
 "nbformat_minor": 2
}
