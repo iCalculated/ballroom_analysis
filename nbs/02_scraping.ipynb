{
 "cells": [
  {
   "cell_type": "markdown",
   "metadata": {},
   "source": [
    "# scraping\n",
    "\n",
    "> Scraping from o2cm"
   ]
  },
  {
   "cell_type": "code",
   "execution_count": 2,
   "metadata": {},
   "outputs": [],
   "source": [
    "#| default_exp scoring"
   ]
  },
  {
   "cell_type": "code",
   "execution_count": 3,
   "metadata": {},
   "outputs": [],
   "source": [
    "#| hide\n",
    "import requests\n",
    "from bs4 import BeautifulSoup\n",
    "from typing import List, Tuple, NamedTuple"
   ]
  },
  {
   "cell_type": "code",
   "execution_count": 14,
   "metadata": {},
   "outputs": [],
   "source": [
    "headers = {\n",
    "    'User-Agent': 'Mozilla/5.0 (Windows NT 10.0; Win64; x64) AppleWebKit/537.36 (KHTML, like Gecko) Chrome/58.0.3029.110 Safari/537.3'\n",
    "}\n",
    "\n",
    "def get_event_html(name: str) -> BeautifulSoup:\n",
    "    first, last = name.split(\" \", 1)\n",
    "    url = f\"https://results.o2cm.com/individual.asp?szLast={last}&szFirst={first}\"\n",
    "    page: requests.Response = requests.get(url, headers=headers)\n",
    "    soup = BeautifulSoup(page.content, \"html.parser\")\n",
    "    return soup\n",
    "\n",
    "soup = get_event_html(\"Sasha Hydrie\")"
   ]
  },
  {
   "cell_type": "code",
   "execution_count": 15,
   "metadata": {},
   "outputs": [
    {
     "data": {
      "text/plain": [
       "\n",
       "<!DOCTYPE html PUBLIC \"-//W3C//DTD XHTML 1.0 Strict//EN\" \"http://www.w3.org/TR/xhtml1/DTD/xhtml1-strict.dtd\">\n",
       "\n",
       "<html xml:lang=\"en\" xmlns=\"http://www.w3.org/1999/xhtml\">\n",
       "<meta content=\"noindex, nofollow\" name=\"robots\"/>\n",
       "<head>\n",
       "<link href=\"compdb.css\" rel=\"stylesheet\"/>\n",
       "</head>\n",
       "<body alink=\"#000000\" bgcolor=\"#FFFFFF\" class=\"t1n\" link=\"#000000\" text=\"#000000\" vlink=\"#0000cc\">\n",
       "<div align=\"center\" class=\"vs\">\n",
       "<table width=\"320\">\n",
       "<tr>\n",
       "<td align=\"center\">\n",
       "<span class=\"h2\">Sasha Hydrie</span></td></tr><tr><td class=\"t1n\"><br/><b>04-01-22 - USA DANCE National DanceSport Championships</b></td></tr><tr><td class=\"t1n\">   <a href=\"http://Results.o2cm.com/scoresheet3.asp?event=usa22&amp;heatid=4042284A\">66) Amateur Adult Bronze Amer. Swing</a></td></tr><tr><td class=\"t1n\">   <a href=\"http://Results.o2cm.com/scoresheet3.asp?event=usa22&amp;heatid=40422840\">66) Amateur Adult Bronze Rhythm</a></td></tr><tr><td class=\"t1n\">   <a href=\"http://Results.o2cm.com/scoresheet3.asp?event=usa22&amp;heatid=40322839\">66) Amateur Collegiate Bronze Amer. Tango</a></td></tr><tr><td class=\"t1n\">   <a href=\"http://Results.o2cm.com/scoresheet3.asp?event=usa22&amp;heatid=40322830\">55) Amateur Collegiate Bronze Smooth</a></td></tr><tr><td class=\"t1n\">   <a href=\"http://Results.o2cm.com/scoresheet3.asp?event=usa22&amp;heatid=4032281B\">40) Amateur Collegiate Bronze Intl. Foxtrot</a></td></tr><tr><td class=\"t1n\">   <a href=\"http://Results.o2cm.com/scoresheet3.asp?event=usa22&amp;heatid=40322810\">58) Amateur Collegiate Bronze Standard</a></td></tr><tr><td class=\"t1n\">   <a href=\"http://Results.o2cm.com/scoresheet3.asp?event=usa22&amp;heatid=40323040\">18) Amateur Collegiate Silver Rhythm</a></td></tr><tr><td class=\"t1n\">   <a href=\"http://Results.o2cm.com/scoresheet3.asp?event=usa22&amp;heatid=40323030\">22) Amateur Collegiate Silver Smooth</a></td></tr><tr><td class=\"t1n\">   <a href=\"http://Results.o2cm.com/scoresheet3.asp?event=usa22&amp;heatid=4042281B\">31) Amateur Adult Bronze Intl. Foxtrot</a></td></tr><tr><td class=\"t1n\">   <a href=\"http://Results.o2cm.com/scoresheet3.asp?event=usa22&amp;heatid=40422810\">52) Amateur Adult Bronze Standard</a></td></tr><tr><td class=\"t1n\">   <a href=\"http://Results.o2cm.com/scoresheet3.asp?event=usa22&amp;heatid=40422830\">41) Amateur Adult Bronze Smooth</a></td></tr><tr><td class=\"t1n\">   <a href=\"http://Results.o2cm.com/scoresheet3.asp?event=usa22&amp;heatid=40422839\">31) Amateur Adult Bronze Amer. Tango</a></td></tr><tr><td class=\"t1n\">   <a href=\"http://Results.o2cm.com/scoresheet3.asp?event=usa22&amp;heatid=40322840\">42) Amateur Collegiate Bronze Rhythm</a></td></tr><tr><td class=\"t1n\">   <a href=\"http://Results.o2cm.com/scoresheet3.asp?event=usa22&amp;heatid=4032284A\">20) Amateur Collegiate Bronze Amer. Swing</a></td></tr><tr><td class=\"t1n\"><br/><b>11-12-22 - Badger Ballroom Dancesport Classic</b></td></tr><tr><td class=\"t1n\">   <a href=\"http://Results.o2cm.com/scoresheet3.asp?event=bds22&amp;heatid=40323E1A\">18) Amateur Collegiate Syllabus Intl. V. Waltz</a></td></tr><tr><td class=\"t1n\">   <a href=\"http://Results.o2cm.com/scoresheet3.asp?event=bds22&amp;heatid=40323031\">29) Amateur Collegiate Silver Smooth</a></td></tr><tr><td class=\"t1n\">   <a href=\"http://Results.o2cm.com/scoresheet3.asp?event=bds22&amp;heatid=40323030\">19) Amateur Collegiate Silver Smooth</a></td></tr><tr><td class=\"t1n\">   <a href=\"http://Results.o2cm.com/scoresheet3.asp?event=bds22&amp;heatid=40322841\">23) Amateur Collegiate Bronze Rhythm</a></td></tr><tr><td class=\"t1n\">   <a href=\"http://Results.o2cm.com/scoresheet3.asp?event=bds22&amp;heatid=40322840\">30) Amateur Collegiate Bronze Rhythm</a></td></tr><tr><td class=\"t1n\">   <a href=\"http://Results.o2cm.com/scoresheet3.asp?event=bds22&amp;heatid=40322830\">22) Amateur Collegiate Bronze Smooth</a></td></tr><tr><td class=\"t1n\">   <a href=\"http://Results.o2cm.com/scoresheet3.asp?event=bds22&amp;heatid=40323011\">34) Amateur Collegiate Silver Standard</a></td></tr><tr><td class=\"t1n\">   <a href=\"http://Results.o2cm.com/scoresheet3.asp?event=bds22&amp;heatid=40322811\">31) Amateur Collegiate Bronze Standard</a></td></tr><tr><td class=\"t1n\">   <a href=\"http://Results.o2cm.com/scoresheet3.asp?event=bds22&amp;heatid=40323010\">27) Amateur Collegiate Silver Standard</a></td></tr><tr><td class=\"t1n\">   <a href=\"http://Results.o2cm.com/scoresheet3.asp?event=bds22&amp;heatid=40322831\">18) Amateur Collegiate Bronze Smooth</a></td></tr><tr><td class=\"t1n\">   <a href=\"http://Results.o2cm.com/scoresheet3.asp?event=bds22&amp;heatid=40322810\">15) Amateur Collegiate Bronze Standard</a></td></tr><tr><td class=\"t1n\"><br/><b>03-17-23 - USA DANCE National DanceSport Championships</b></td></tr><tr><td class=\"t1n\">   <a href=\"http://Results.o2cm.com/scoresheet3.asp?event=usa23&amp;heatid=40323020\">14) Amateur Collegiate Silver Latin</a></td></tr><tr><td class=\"t1n\">   <a href=\"http://Results.o2cm.com/scoresheet3.asp?event=usa23&amp;heatid=40322820\">9) Amateur Collegiate Bronze Latin</a></td></tr><tr><td class=\"t1n\">   <a href=\"http://Results.o2cm.com/scoresheet3.asp?event=usa23&amp;heatid=40322829\">4) Amateur Collegiate Bronze Intl. Samba</a></td></tr><tr><td class=\"t1n\">   <a href=\"http://Results.o2cm.com/scoresheet3.asp?event=usa23&amp;heatid=4032282C\">8) Amateur Collegiate Bronze Intl. Jive</a></td></tr><tr><td class=\"t1n\">   <a href=\"http://Results.o2cm.com/scoresheet3.asp?event=usa23&amp;heatid=40322830\">14) Amateur Collegiate Bronze Smooth</a></td></tr><tr><td class=\"t1n\">   <a href=\"http://Results.o2cm.com/scoresheet3.asp?event=usa23&amp;heatid=40322839\">10) Amateur Collegiate Bronze Amer. Tango</a></td></tr><tr><td class=\"t1n\">   <a href=\"http://Results.o2cm.com/scoresheet3.asp?event=usa23&amp;heatid=4032283B\">14) Amateur Collegiate Bronze Amer. V. Waltz</a></td></tr><tr><td class=\"t1n\">   <a href=\"http://Results.o2cm.com/scoresheet3.asp?event=usa23&amp;heatid=40323030\">17) Amateur Collegiate Silver Smooth</a></td></tr><tr><td class=\"t1n\">   <a href=\"http://Results.o2cm.com/scoresheet3.asp?event=usa23&amp;heatid=40322810\">19) Amateur Collegiate Bronze Standard</a></td></tr><tr><td class=\"t1n\">   <a href=\"http://Results.o2cm.com/scoresheet3.asp?event=usa23&amp;heatid=4032281B\">13) Amateur Collegiate Bronze Intl. Foxtrot</a></td></tr><tr><td class=\"t1n\">   <a href=\"http://Results.o2cm.com/scoresheet3.asp?event=usa23&amp;heatid=40322819\">12) Amateur Collegiate Bronze Intl. Tango</a></td></tr><tr><td class=\"t1n\">   <a href=\"http://Results.o2cm.com/scoresheet3.asp?event=usa23&amp;heatid=4032284A\">14) Amateur Collegiate Bronze Amer. Swing</a></td></tr><tr><td class=\"t1n\">   <a href=\"http://Results.o2cm.com/scoresheet3.asp?event=usa23&amp;heatid=4032284B\">6) Amateur Collegiate Bronze Amer. Bolero</a></td></tr><tr><td class=\"t1n\">   <a href=\"http://Results.o2cm.com/scoresheet3.asp?event=usa23&amp;heatid=40322840\">13) Amateur Collegiate Bronze Rhythm</a></td></tr><tr><td class=\"t1n\">   <a href=\"http://Results.o2cm.com/scoresheet3.asp?event=usa23&amp;heatid=40323040\">17) Amateur Collegiate Silver Rhythm</a></td></tr><tr><td class=\"t1n\">   <a href=\"http://Results.o2cm.com/scoresheet3.asp?event=usa23&amp;heatid=4032304B\">8) Amateur Collegiate Silver Amer. Bolero</a></td></tr><tr><td class=\"t1n\">   <a href=\"http://Results.o2cm.com/scoresheet3.asp?event=usa23&amp;heatid=EE322871\">4) ~-- Combine -- Collegiate Bronze 6-Dance TM</a></td></tr><tr><td class=\"t1n\"><br/><b>11-11-23 - Badger Ballroom Dancesport Classic</b></td></tr><tr><td class=\"t1n\">   <a href=\"http://Results.o2cm.com/scoresheet3.asp?event=bds23&amp;heatid=40323E2B\">10) Amateur Collegiate Syllabus Intl. Paso Doble</a></td></tr><tr><td class=\"t1n\">   <a href=\"http://Results.o2cm.com/scoresheet3.asp?event=bds23&amp;heatid=40322840\">18) Amateur Collegiate Bronze Rhythm</a></td></tr><tr><td class=\"t1n\">   <a href=\"http://Results.o2cm.com/scoresheet3.asp?event=bds23&amp;heatid=40323011\">16) Amateur Collegiate Silver Standard</a></td></tr><tr><td class=\"t1n\">   <a href=\"http://Results.o2cm.com/scoresheet3.asp?event=bds23&amp;heatid=40323030\">17) Amateur Collegiate Silver Smooth</a></td></tr><tr><td class=\"t1n\">   <a href=\"http://Results.o2cm.com/scoresheet3.asp?event=bds23&amp;heatid=40323031\">24) Amateur Collegiate Silver Smooth</a></td></tr><tr><td class=\"t1n\">   <a href=\"http://Results.o2cm.com/scoresheet3.asp?event=bds23&amp;heatid=40322831\">8) Amateur Collegiate Bronze Smooth</a></td></tr><tr><td class=\"t1n\">   <a href=\"http://Results.o2cm.com/scoresheet3.asp?event=bds23&amp;heatid=40322830\">8) Amateur Collegiate Bronze Smooth</a></td></tr><tr><td class=\"t1n\">   <a href=\"http://Results.o2cm.com/scoresheet3.asp?event=bds23&amp;heatid=40322811\">11) Amateur Collegiate Bronze Standard</a></td></tr><tr><td class=\"t1n\">   <a href=\"http://Results.o2cm.com/scoresheet3.asp?event=bds23&amp;heatid=40322810\">6) Amateur Collegiate Bronze Standard</a></td></tr><tr><td class=\"t1n\">   <a href=\"http://Results.o2cm.com/scoresheet3.asp?event=bds23&amp;heatid=40323010\">8) Amateur Collegiate Silver Standard</a></td></tr><tr><td class=\"t1n\">   <a href=\"http://Results.o2cm.com/scoresheet3.asp?event=bds23&amp;heatid=40322841\">10) Amateur Collegiate Bronze Rhythm</a></td></tr><tr><td class=\"t1n\">   <a href=\"http://Results.o2cm.com/scoresheet3.asp?event=bds23&amp;heatid=40323040\">12) Amateur Collegiate Silver Rhythm</a></td></tr><tr><td class=\"t1n\">   <a href=\"http://Results.o2cm.com/scoresheet3.asp?event=bds23&amp;heatid=40323E4B\">7) Amateur Collegiate Syllabus Am. Bolero</a></td></tr><tr><td class=\"t1n\">   <a href=\"http://Results.o2cm.com/scoresheet3.asp?event=bds23&amp;heatid=40323041\">12) Amateur Collegiate Silver Rhythm</a></td></tr><tr><td class=\"t1n\">   <a href=\"http://Results.o2cm.com/scoresheet3.asp?event=bds23&amp;heatid=40322821\">11) Amateur Collegiate Bronze Latin</a></td></tr><tr><td class=\"t1n\">   <a href=\"http://Results.o2cm.com/scoresheet3.asp?event=bds23&amp;heatid=40322820\">12) Amateur Collegiate Bronze Latin</a></td></tr><tr><td class=\"t1n\">   <a href=\"http://Results.o2cm.com/scoresheet3.asp?event=bds23&amp;heatid=40323020\">10) Amateur Collegiate Silver Latin</a></td></tr><tr><td class=\"t1n\">   <a href=\"http://Results.o2cm.com/scoresheet3.asp?event=bds23&amp;heatid=40323021\">11) Amateur Collegiate Silver Latin</a></td></tr><tr><td class=\"t1n\"><br/><b>03-22-24 - USA DANCE National DanceSport Championships</b></td></tr><tr><td class=\"t1n\">   <a href=\"http://Results.o2cm.com/scoresheet3.asp?event=usa24&amp;heatid=40423019\">15) Amateur Adult Silver Intl. Tango</a></td></tr><tr><td class=\"t1n\">   <a href=\"http://Results.o2cm.com/scoresheet3.asp?event=usa24&amp;heatid=40422B20\">21) Amateur Adult Bronze 1 Latin</a></td></tr><tr><td class=\"t1n\">   <a href=\"http://Results.o2cm.com/scoresheet3.asp?event=usa24&amp;heatid=40323030\">30) Amateur Collegiate Silver Smooth</a></td></tr><tr><td class=\"t1n\">   <a href=\"http://Results.o2cm.com/scoresheet3.asp?event=usa24&amp;heatid=40323040\">15) Amateur Collegiate Silver Rhythm</a></td></tr><tr><td class=\"t1n\">   <a href=\"http://Results.o2cm.com/scoresheet3.asp?event=usa24&amp;heatid=4032304B\">15) Amateur Collegiate Silver Amer. Bolero</a></td></tr><tr><td class=\"t1n\">   <a href=\"http://Results.o2cm.com/scoresheet3.asp?event=usa24&amp;heatid=40423040\">7) Amateur Adult Silver Rhythm</a></td></tr><tr><td class=\"t1n\">   <a href=\"http://Results.o2cm.com/scoresheet3.asp?event=usa24&amp;heatid=4042304B\">5) Amateur Adult Silver Amer. Bolero</a></td></tr><tr><td class=\"t1n\">   <a href=\"http://Results.o2cm.com/scoresheet3.asp?event=usa24&amp;heatid=40323010\">13) Amateur Collegiate Silver Standard</a></td></tr><tr><td class=\"t1n\">   <a href=\"http://Results.o2cm.com/scoresheet3.asp?event=usa24&amp;heatid=40423010\">11) Amateur Adult Silver Standard</a></td></tr><tr><td class=\"t1n\">   <a href=\"http://Results.o2cm.com/scoresheet3.asp?event=usa24&amp;heatid=40423030\">16) Amateur Adult Silver Smooth</a></td></tr><tr><td class=\"t1n\">   <a href=\"http://Results.o2cm.com/scoresheet3.asp?event=usa24&amp;heatid=40322B20\">19) Amateur Collegiate Bronze 1 Latin</a></td></tr><tr><td class=\"t1n\">   <a href=\"http://Results.o2cm.com/scoresheet3.asp?event=usa24&amp;heatid=40322820\">8) Amateur Collegiate Bronze Latin</a></td></tr><tr><td class=\"t1n\">   <a href=\"http://Results.o2cm.com/scoresheet3.asp?event=usa24&amp;heatid=40422820\">11) Amateur Adult Bronze Latin</a></td></tr><tr><td class=\"t1n\">\n",
       "</td>\n",
       "</tr>\n",
       "<tr><td> </td></tr>\n",
       "<tr><td> </td></tr>\n",
       "</table>\n",
       "<form action=\"individual.asp\" method=\"post\" name=\"ReSearch\">\n",
       "<h2>O<sup>2</sup>CM Individual competitor Results Search on AWS</h2>\n",
       "<b>Search:</b> (Spelling must be exact) <br/>\n",
       "First: <input id=\"szFirst\" name=\"szFirst\" style=\"WIDTH: 100px;\" value=\"Sasha\"/>\n",
       "Last: <input id=\"szLast\" name=\"szLast\" style=\"WIDTH: 100px;\" value=\"Hydrie\"/>\n",
       "<input id=\"DoSearch\" name=\"DoSearch\" style=\"WIDTH: 60px;\" type=\"submit\" value=\"Search\"/>\n",
       "</form>\n",
       "<br/>\n",
       "<b>Disclaimer:</b><br/>This historic data is provided by organizers and scrutineers and presented 'as is'.<br/><br/>\n",
       "Please do not request modification of any registration errors.<br/><br/>\n",
       "Be aware that your name may not be unique, and you may see competitions listed that you did not dance.\n",
       "Results will not appear if the name requested does not exactly match entries. Please try different spellings.<br/><br/>\n",
       "If you \"double entered\" at a competition, only your first \"competitor record\" results will be displayed.<br/><br/>\n",
       "</div>\n",
       "</body>\n",
       "</html>"
      ]
     },
     "execution_count": 15,
     "metadata": {},
     "output_type": "execute_result"
    }
   ],
   "source": [
    "soup"
   ]
  },
  {
   "cell_type": "code",
   "execution_count": 20,
   "metadata": {},
   "outputs": [
    {
     "data": {
      "text/plain": [
       "[('15) Amateur Adult Silver Intl. Tango',\n",
       "  'http://Results.o2cm.com/scoresheet3.asp?event=usa24&heatid=40423019'),\n",
       " ('21) Amateur Adult Bronze 1 Latin',\n",
       "  'http://Results.o2cm.com/scoresheet3.asp?event=usa24&heatid=40422B20'),\n",
       " ('30) Amateur Collegiate Silver Smooth',\n",
       "  'http://Results.o2cm.com/scoresheet3.asp?event=usa24&heatid=40323030'),\n",
       " ('15) Amateur Collegiate Silver Rhythm',\n",
       "  'http://Results.o2cm.com/scoresheet3.asp?event=usa24&heatid=40323040'),\n",
       " ('15) Amateur Collegiate Silver Amer. Bolero',\n",
       "  'http://Results.o2cm.com/scoresheet3.asp?event=usa24&heatid=4032304B'),\n",
       " ('7) Amateur Adult Silver Rhythm',\n",
       "  'http://Results.o2cm.com/scoresheet3.asp?event=usa24&heatid=40423040'),\n",
       " ('5) Amateur Adult Silver Amer. Bolero',\n",
       "  'http://Results.o2cm.com/scoresheet3.asp?event=usa24&heatid=4042304B'),\n",
       " ('13) Amateur Collegiate Silver Standard',\n",
       "  'http://Results.o2cm.com/scoresheet3.asp?event=usa24&heatid=40323010'),\n",
       " ('11) Amateur Adult Silver Standard',\n",
       "  'http://Results.o2cm.com/scoresheet3.asp?event=usa24&heatid=40423010'),\n",
       " ('16) Amateur Adult Silver Smooth',\n",
       "  'http://Results.o2cm.com/scoresheet3.asp?event=usa24&heatid=40423030'),\n",
       " ('19) Amateur Collegiate Bronze 1 Latin',\n",
       "  'http://Results.o2cm.com/scoresheet3.asp?event=usa24&heatid=40322B20'),\n",
       " ('8) Amateur Collegiate Bronze Latin',\n",
       "  'http://Results.o2cm.com/scoresheet3.asp?event=usa24&heatid=40322820'),\n",
       " ('11) Amateur Adult Bronze Latin',\n",
       "  'http://Results.o2cm.com/scoresheet3.asp?event=usa24&heatid=40422820')]"
      ]
     },
     "execution_count": 20,
     "metadata": {},
     "output_type": "execute_result"
    }
   ],
   "source": [
    "#| export\n",
    "\n",
    "def extract_events_from_html(soup: BeautifulSoup) -> List[Tuple[str, str]]:\n",
    "    events = []\n",
    "    include_events = False\n",
    "\n",
    "    for tag in soup.find_all(['b', 'a']):  \n",
    "        if tag.name == 'b' and tag.text == '03-22-24 - USA DANCE National DanceSport Championships':\n",
    "            include_events = True\n",
    "        elif tag.name == 'b' and include_events:\n",
    "            break \n",
    "        elif tag.name == 'a' and include_events:\n",
    "            events.append((tag.text, tag.get('href')))\n",
    "\n",
    "    return events\n",
    "\n",
    "events = extract_events_from_html(soup)\n",
    "events"
   ]
  },
  {
   "cell_type": "code",
   "execution_count": 39,
   "metadata": {},
   "outputs": [],
   "source": [
    "#| export \n",
    "\n",
    "class Result(NamedTuple):\n",
    "    callbacks: int\n",
    "    placement: float | None"
   ]
  },
  {
   "cell_type": "code",
   "execution_count": 83,
   "metadata": {},
   "outputs": [],
   "source": [
    "#| export\n",
    "\n",
    "def extract_max_callbacks(soup: BeautifulSoup) -> int:\n",
    "    select_element = soup.find('select', {'id': 'selCount'})\n",
    "    possible_callbacks = len(select_element.find_all('option')) - 1 if select_element else 0\n",
    "    return possible_callbacks\n",
    "\n",
    "def extract_placement(soup: BeautifulSoup, name: str) -> float | None: \n",
    "    \"\"\"assumes that soup is a finals page\"\"\"\n",
    "    couple_number = None\n",
    "    for link in soup.find_all('a'):\n",
    "        if link.text == name:\n",
    "            parent_td = link.find_parent('td')  # Parent <td> which should have sibling with couple number\n",
    "            if parent_td:\n",
    "                # The immediate previous sibling <td> of `parent_td` contains the couple number\n",
    "                prev_td = parent_td.find_previous_sibling(\"td\", class_=\"t1b\")\n",
    "                if prev_td:\n",
    "                    couple_number = prev_td.text.strip()\n",
    "                    print(f\"Found {couple_number} associated with {name}\")\n",
    "                    break\n",
    "    else:\n",
    "        print(f\"Dancer {name} didn't final: {soup}\")\n",
    "        return None\n",
    "\n",
    "    results_table = soup.find('table', class_='t1n') \n",
    "    for row in results_table.find_all('tr'):\n",
    "        cells = row.find_all('td') \n",
    "        if cells and cells[0].get_text(strip=True) == couple_number:\n",
    "            averaged_place = cells[-2].get_text(strip=True)  \n",
    "            return float(averaged_place)"
   ]
  },
  {
   "cell_type": "code",
   "execution_count": 84,
   "metadata": {},
   "outputs": [
    {
     "name": "stdout",
     "output_type": "stream",
     "text": [
      "Found 528 associated with Khalid Ali\n"
     ]
    },
    {
     "data": {
      "text/plain": [
       "3.5"
      ]
     },
     "execution_count": 84,
     "metadata": {},
     "output_type": "execute_result"
    }
   ],
   "source": [
    "\n",
    "url = \"https://results.o2cm.com/scoresheet3.asp?event=usa24&heatid=40423019\"\n",
    "name = \"Khalid Ali\"\n",
    "\n",
    "initial_res = requests.get(url, headers=headers)\n",
    "soup = BeautifulSoup(initial_res.content, \"html.parser\")\n",
    "\n",
    "extract_placement(soup, name)\n"
   ]
  },
  {
   "cell_type": "code",
   "execution_count": 85,
   "metadata": {},
   "outputs": [
    {
     "name": "stdout",
     "output_type": "stream",
     "text": [
      "Found 528 associated with Khalid Ali\n"
     ]
    },
    {
     "data": {
      "text/plain": [
       "Result(callbacks=2, placement=3.5)"
      ]
     },
     "execution_count": 85,
     "metadata": {},
     "output_type": "execute_result"
    }
   ],
   "source": [
    "#| export\n",
    "\n",
    "def get_event_result(name: str, url: str) -> Result:\n",
    "    query_string = url.split(\"?\")[1]\n",
    "    key_value_pairs = [query.split(\"=\") for query in query_string.split(\"&\")]\n",
    "    data = {key: value for key, value in key_value_pairs}\n",
    "\n",
    "    session = requests.Session()\n",
    "    session.headers.update(headers)\n",
    "\n",
    "    initial_res = session.get(url)\n",
    "    soup = BeautifulSoup(initial_res.content, \"html.parser\")\n",
    "\n",
    "    if (place := extract_placement(soup, name)) is not None:\n",
    "        return Result(callbacks=extract_max_callbacks(soup), placement=place)\n",
    "\n",
    "\n",
    "    url = \"https://results.o2cm.com/scoresheet3.asp\"\n",
    "    # data = {\n",
    "    #     \"heatid\": \"40423019\",  \n",
    "    #     \"event\": \"usa24\",      \n",
    "    #     \"selCount\": \"1\"        # 0: final, 1: semi final, 2: quarter final, etc\n",
    "    # }\n",
    "\n",
    "    response = session.post(url, data=data)\n",
    "\n",
    "    # Process the response\n",
    "    soup = BeautifulSoup(response.content, 'html.parser')\n",
    "    raise NotImplementedError()\n",
    "\n",
    "get_event_result(\"Khalid Ali\", \"https://results.o2cm.com/scoresheet3.asp?event=usa24&heatid=40423019\")\n",
    "    \n"
   ]
  },
  {
   "cell_type": "code",
   "execution_count": 28,
   "metadata": {},
   "outputs": [],
   "source": [
    "\n",
    "url = \"https://results.o2cm.com/scoresheet3.asp\"\n",
    "data = {\n",
    "    \"heatid\": \"40423019\",  # Hidden input for the specific heat\n",
    "    \"event\": \"usa24\",      # Hidden input for the specific event\n",
    "    \"selCount\": \"1\"        # Dropdown selection for Semi-Final\n",
    "}\n",
    "\n",
    "# Send the POST request\n",
    "response = requests.post(url, data=data)\n",
    "\n",
    "# Process the response with BeautifulSoup or another tool if needed\n",
    "soup = BeautifulSoup(response.content, 'html.parser')\n"
   ]
  },
  {
   "cell_type": "code",
   "execution_count": 34,
   "metadata": {},
   "outputs": [
    {
     "name": "stdout",
     "output_type": "stream",
     "text": [
      "\n",
      "<!DOCTYPE html PUBLIC \"-//W3C//DTD XHTML 1.0 Strict//EN\"\n",
      "\t\"http://www.w3.org/TR/xhtml1/DTD/xhtml1-strict.dtd\">\n",
      "\n",
      "<html xml:lang=\"en\" xmlns=\"http://www.w3.org/1999/xhtml\">\n",
      "<meta content=\"noindex, nofollow\" name=\"robots\"/>\n",
      "<head>\n",
      "<link href=\"compdb.css\" rel=\"stylesheet\"/>\n",
      "<style type=\"text/css\">\n",
      "\t    .h1 {color:#000000}\n",
      "\t    .h2 {color:#000000}\n",
      "\t    .h4 {color:#000000}\n",
      "\t    .h5n {color:#000000}\n",
      "\t    .h5b {color:#000000}\n",
      "\t    .t1n {color:#000000}\n",
      "\t    .t1b {color:#000000}\n",
      "\t    .t2n {color:#000000}\n",
      "\t    .t2b {color:#000000}\n",
      "    </style>\n",
      "<script type=\"text/javascript\">\n",
      "\t\t\tfunction MM_findObj(name) { \n",
      "\t\t\t\tvar i,obj=document[name];\n",
      "\t\t\t\tif (!obj && document.all)\n",
      "\t\t\t\t\tobj=document.all[name];\n",
      "\t\t\t\tif (!obj && document.getElementById)\n",
      "\t\t\t\t\tobj = document.getElementById(name);\n",
      "\t\t\t\tif (!obj && document.layers)\n",
      "\t\t\t\t\tobj=document.layers[name];\n",
      "\t\t\t\tif (!obj && document.forms)\n",
      "\t\t\t\t\tfor (i=0;!obj&&i<document.forms.length;i++) \n",
      "\t\t\t\t\t\tobj=document.forms[i][name];\n",
      "\t\t\t\treturn obj;\n",
      "\t\t\t}\n",
      "\t\t\t\n",
      "\t\t\tfunction MyWindowPrint()\n",
      "\t\t\t{\n",
      "\t\t\t\tdocument.body.bgColor=\"white\";\n",
      "\t\t\t\tdocument.body.background=\"none\";\n",
      "\t\t\t\twindow.print();\t\t\n",
      "\t\t\t\tdocument.body.background=\"../images/bkgd.gif\";\n",
      "\t\t\t\tdocument.body.bgColor==\"#cccccc\";\n",
      "\t\t\t}\t\t\t\t\t\n",
      "\t\t\t\n",
      "\t\t\tfunction OnResize()\n",
      "\t\t\t{\n",
      "\t\t\t\tvar winW = 630, winH = 460;\n",
      "\t\t\t\tif (document.body && document.body.offsetWidth) {\n",
      "\t\t\t\t\twinW = document.body.offsetWidth;\n",
      "\t\t\t\t\twinH = document.body.offsetHeight;\n",
      "\t\t\t\t}\n",
      "\t\t\t\tif (document.compatMode=='CSS1Compat' &&\n",
      "\t\t\t\t\t\tdocument.documentElement &&\n",
      "\t\t\t\t\t\tdocument.documentElement.offsetWidth ) {\n",
      "\t\t\t\t\twinW = document.documentElement.offsetWidth;\n",
      "\t\t\t\t\twinH = document.documentElement.offsetHeight;\n",
      "\t\t\t\t}\n",
      "\t\t\t\tif (window.innerWidth && window.innerHeight) {\n",
      "\t\t\t\t\twinW = window.innerWidth;\n",
      "\t\t\t\t\twinH = window.innerHeight;\n",
      "\t\t\t\t}\n",
      "\t\t\t}\n",
      "\n",
      "\t\t</script>\n",
      "</head>\n",
      "<body alink=\"#000000\" bgcolor=\"#FFFFFF\" class=\"t1n\" link=\"#000000\" onload=\"OnResize();\" onresize=\"OnResize();\" text=\"#000000\" vlink=\"#0000cc\">\n",
      "<form action=\"scoresheet3.asp\" method=\"post\" name=\"selectRound\">\n",
      "<table width=\"600\">\n",
      "<tr></tr><td align=\"center\" class=\"h1\" valign=\"top\">USA DANCE National DanceSport Championships 2024\n",
      "\t\t\t\t<input id=\"heatid\" name=\"heatid\" type=\"hidden\" value=\"40423019\"/>\n",
      "<input id=\"event\" name=\"event\" type=\"hidden\" value=\"usa24\"/>\n",
      "</td>\n",
      "<tr><td align=\"center\" class=\"h4\" valign=\"middle\">Amateur Adult Silver Intl. Tango \n",
      "\t\t\t\n",
      "\t\t\t\t\t\t<select class=\"h4\" id=\"selCount\" name=\"selCount\" onchange=\"document.forms.selectRound.submit()\">\n",
      "<option value=\"0\">Final</option>\n",
      "<option selected=\"\" value=\"1\">Semi-Final</option>\n",
      "<option value=\"2\">Quarter-Final</option>\n",
      "</select>\n",
      "</td>\n",
      "<td>\n",
      "<input onclick=\"MyWindowPrint()\" type=\"button\" value=\" Print \"/>\n",
      "</td>\n",
      "</tr></table>\n",
      "</form>\n",
      "<table class=\"t1n\" width=\"290\"><tr><td align=\"center\" class=\"h3\" colspan=\"10\">Intl. Tango</td></tr><tr><td class=\"t1b\" width=\"60\"> </td><td class=\"t1b\" width=\"20\">10</td><td class=\"t1b\" width=\"20\">18</td><td class=\"t1b\" width=\"20\">23</td><td class=\"t1b\" width=\"20\">24</td><td class=\"t1b\" width=\"20\">26</td><td class=\"t1b\" width=\"20\">29</td><td class=\"t1b\" width=\"20\">31</td><td width=\"60\"> </td><td width=\"30\"> </td></tr><tr bgcolor=\"#CCCCCC\"><td class=\"t1b\">260</td><td> </td><td>X</td><td>X</td><td> </td><td>X</td><td>X</td><td>X</td><td>5</td><td class=\"t1b\">R</td><tr bgcolor=\"#CCCCCC\"><td class=\"t1b\">318</td><td> </td><td>X</td><td>X</td><td>X</td><td>X</td><td>X</td><td> </td><td>5</td><td class=\"t1b\">R</td><tr bgcolor=\"#CCCCCC\"><td class=\"t1b\">402</td><td>X</td><td>X</td><td>X</td><td>X</td><td>X</td><td>X</td><td>X</td><td>7</td><td class=\"t1b\">R</td><tr bgcolor=\"#CCCCCC\"><td class=\"t1b\">513</td><td>X</td><td> </td><td>X</td><td>X</td><td>X</td><td>X</td><td>X</td><td>6</td><td class=\"t1b\">R</td><tr bgcolor=\"#CCCCCC\"><td class=\"t1b\">528</td><td>X</td><td> </td><td>X</td><td> </td><td>X</td><td>X</td><td>X</td><td>5</td><td class=\"t1b\">R</td><tr bgcolor=\"#CCCCCC\"><td class=\"t1b\">552</td><td>X</td><td>X</td><td>X</td><td>X</td><td>X</td><td>X</td><td>X</td><td>7</td><td class=\"t1b\">R</td><tr><td class=\"t1b\">443</td><td> </td><td> </td><td>X</td><td> </td><td>X</td><td> </td><td>X</td><td>3</td><td class=\"t1b\"></td><tr><td class=\"t1b\">494</td><td>X</td><td>X</td><td> </td><td> </td><td> </td><td> </td><td>X</td><td>3</td><td class=\"t1b\"></td><tr><td class=\"t1b\">498</td><td> </td><td>X</td><td> </td><td>X</td><td> </td><td>X</td><td> </td><td>3</td><td class=\"t1b\"></td><tr><td class=\"t1b\">418</td><td> </td><td>X</td><td> </td><td>X</td><td> </td><td> </td><td> </td><td>2</td><td class=\"t1b\"></td><tr><td class=\"t1b\">460</td><td>X</td><td> </td><td> </td><td>X</td><td> </td><td> </td><td> </td><td>2</td><td class=\"t1b\"></td><tr><td class=\"t1b\">384</td><td>X</td><td> </td><td> </td><td> </td><td> </td><td> </td><td> </td><td>1</td><td class=\"t1b\"></td><tr><td class=\"t1b\">295</td><td> </td><td> </td><td> </td><td> </td><td> </td><td> </td><td> </td><td>0</td><td class=\"t1b\"></td><tr><td class=\"t1b\">447</td><td> </td><td> </td><td> </td><td> </td><td> </td><td> </td><td> </td><td>0</td><td class=\"t1b\"></td></tr></tr></tr></tr></tr></tr></tr></tr></tr></tr></tr></tr></tr></tr></table><br/><table class=\"t1n\" width=\"400\"><tr><td width=\"60\"> </td><td class=\"t1b\" width=\"340\">Couples</td><tr><td class=\"t1b\">260</td><td><a href=\"https://results.o2cm.com/individual.asp?szLast=Lin&amp;szFirst=Zeyu\" target=\"_blank\">Zeyu Lin</a>, <a href=\"https://results.o2cm.com/individual.asp?szLast=Perelmutor&amp;szFirst=Michelle\" target=\"_blank\">Michelle Perelmutor</a> - </td><tr><tr><td class=\"t1b\">295</td><td><a href=\"https://results.o2cm.com/individual.asp?szLast=Milton&amp;szFirst=Jack\" target=\"_blank\">Jack Milton</a>, <a href=\"https://results.o2cm.com/individual.asp?szLast=Cook&amp;szFirst=Ana\" target=\"_blank\">Ana Cook</a> - IN</td><tr><tr><td class=\"t1b\">318</td><td><a href=\"https://results.o2cm.com/individual.asp?szLast=Chow&amp;szFirst=Matthew\" target=\"_blank\">Matthew Chow</a>, <a href=\"https://results.o2cm.com/individual.asp?szLast=Gordillo&amp;szFirst=Vanessa\" target=\"_blank\">Vanessa Gordillo</a> - NM</td><tr><tr><td class=\"t1b\">384</td><td><a href=\"https://results.o2cm.com/individual.asp?szLast=Young&amp;szFirst=Damien\" target=\"_blank\">Damien Young</a>, <a href=\"https://results.o2cm.com/individual.asp?szLast=Tatmon&amp;szFirst=Ebony\" target=\"_blank\">Ebony Tatmon</a> -  </td><tr><tr><td class=\"t1b\">402</td><td><a href=\"https://results.o2cm.com/individual.asp?szLast=Razmus&amp;szFirst=Alyssa\" target=\"_blank\">Alyssa Razmus</a>, <a href=\"https://results.o2cm.com/individual.asp?szLast=Matviienko&amp;szFirst=Daria\" target=\"_blank\">Daria Matviienko</a> - CA</td><tr><tr><td class=\"t1b\">418</td><td><a href=\"https://results.o2cm.com/individual.asp?szLast=Gu&amp;szFirst=Carl\" target=\"_blank\">Carl Gu</a>, <a href=\"https://results.o2cm.com/individual.asp?szLast=Dopp&amp;szFirst=Sabrina\" target=\"_blank\">Sabrina Dopp</a> - IN</td><tr><tr><td class=\"t1b\">443</td><td><a href=\"https://results.o2cm.com/individual.asp?szLast=Cheng&amp;szFirst=Calvin\" target=\"_blank\">Calvin Cheng</a>, <a href=\"https://results.o2cm.com/individual.asp?szLast=Lim&amp;szFirst=Athena\" target=\"_blank\">Athena Lim</a> - NY</td><tr><tr><td class=\"t1b\">447</td><td><a href=\"https://results.o2cm.com/individual.asp?szLast=Chanana&amp;szFirst=Aditya\" target=\"_blank\">Aditya Chanana</a>, <a href=\"https://results.o2cm.com/individual.asp?szLast=Bhandarkar&amp;szFirst=Saumya\" target=\"_blank\">Saumya Bhandarkar</a> - PA</td><tr><tr><td class=\"t1b\">460</td><td><a href=\"https://results.o2cm.com/individual.asp?szLast=Wu&amp;szFirst=Leon\" target=\"_blank\">Leon Wu</a>, <a href=\"https://results.o2cm.com/individual.asp?szLast=Wesche&amp;szFirst=Megan\" target=\"_blank\">Megan Wesche</a> -  </td><tr><tr><td class=\"t1b\">494</td><td><a href=\"https://results.o2cm.com/individual.asp?szLast=Kindem&amp;szFirst=Daniel\" target=\"_blank\">Daniel Kindem</a>, <a href=\"https://results.o2cm.com/individual.asp?szLast=Wehring&amp;szFirst=Cas\" target=\"_blank\">Cas Wehring</a> - MI</td><tr><tr><td class=\"t1b\">498</td><td><a href=\"https://results.o2cm.com/individual.asp?szLast=Britt&amp;szFirst=Jarod\" target=\"_blank\">Jarod Britt</a>, <a href=\"https://results.o2cm.com/individual.asp?szLast=Hammond&amp;szFirst=Georgia\" target=\"_blank\">Georgia Hammond</a> - MD</td><tr><tr><td class=\"t1b\">513</td><td><a href=\"https://results.o2cm.com/individual.asp?szLast=Kuntoro&amp;szFirst=Catherine\" target=\"_blank\">Catherine Kuntoro</a>, <a href=\"https://results.o2cm.com/individual.asp?szLast=Guha&amp;szFirst=Uditi\" target=\"_blank\">Uditi Guha</a> - CA</td><tr><tr><td class=\"t1b\">528</td><td><a href=\"https://results.o2cm.com/individual.asp?szLast=Ali&amp;szFirst=Khalid\" target=\"_blank\">Khalid Ali</a>, <a href=\"https://results.o2cm.com/individual.asp?szLast=Schultz&amp;szFirst=Carmen\" target=\"_blank\">Carmen Schultz</a> - MN</td><tr><tr><td class=\"t1b\">552</td><td><a href=\"https://results.o2cm.com/individual.asp?szLast=Leal&amp;szFirst=Mark\" target=\"_blank\">Mark Leal</a>, <a href=\"https://results.o2cm.com/individual.asp?szLast=Garg&amp;szFirst=Swati\" target=\"_blank\">Swati Garg</a> - CA</td><tr><tr><td width=\"60\"> </td><td class=\"t1b\" width=\"340\"> </td><tr><td width=\"60\"> </td><td class=\"t1b\" width=\"340\">Judges</td><tr><td class=\"t1b\">10</td><td>Carmen </td><tr><tr><td class=\"t1b\">18</td><td>Jami Josephson-Chace</td><tr><tr><td class=\"t1b\">23</td><td>Lesya Sinitsa</td><tr><tr><td class=\"t1b\">24</td><td>Karina Smirnoff</td><tr><tr><td class=\"t1b\">26</td><td>Salvatore Todaro</td><tr><tr><td class=\"t1b\">29</td><td>Ashli Williamson</td><tr><tr><td class=\"t1b\">31</td><td>Christine Zona</td><tr><tr><td width=\"60\"> </td><td class=\"t1b\" width=\"340\">Chairperson</td><tr><td class=\"t1b\"></td><td>Yuehwern Yih</td><tr><tr><td width=\"60\"> </td><td class=\"t1b\" width=\"340\">Chairperson</td><tr><td class=\"t1b\"></td><td>Daniel Calloway</td><tr><tr><td width=\"60\"> </td><td class=\"t1b\" width=\"340\">Scrutineer</td><tr><td class=\"t1b\"></td><td>Daniel Dilley</td><tr><tr><td width=\"60\"> </td><td class=\"t1b\" width=\"340\">Scrutineer</td><tr><td class=\"t1b\"></td><td>Benjamin Haut</td><tr></tr></tr></tr></tr></tr></tr></tr></tr></tr></tr></tr></tr></tr></tr></tr></tr></tr></tr></tr></tr></tr></tr></tr></tr></tr></tr></tr></tr></tr></tr></tr></tr></tr></tr></tr></tr></tr></tr></tr></tr></tr></tr></tr></tr></tr></tr></tr></tr></tr></tr></tr></tr></tr></tr></tr></tr></tr></table>\n",
      "<br> hosted on AWS\n",
      "<table height=\"100\"><tr><td> </td></tr></table>\n",
      "\n",
      "</br></body>\n",
      "</html>\n",
      "\n"
     ]
    }
   ],
   "source": [
    "print(soup)"
   ]
  },
  {
   "cell_type": "code",
   "execution_count": 37,
   "metadata": {},
   "outputs": [
    {
     "name": "stdout",
     "output_type": "stream",
     "text": [
      "Carmen Schultz is in the results\n"
     ]
    }
   ],
   "source": [
    "name = \"Carmen Schultz\"\n",
    "if name in soup.get_text():\n",
    "    print(f\"{name} is in the results\")\n",
    "else:\n",
    "    print(f\"{name} is not in the results\")"
   ]
  },
  {
   "cell_type": "code",
   "execution_count": null,
   "metadata": {},
   "outputs": [],
   "source": [
    "#| hide\n",
    "import nbdev; nbdev.nbdev_export()"
   ]
  }
 ],
 "metadata": {
  "kernelspec": {
   "display_name": "env",
   "language": "python",
   "name": "python3"
  },
  "language_info": {
   "codemirror_mode": {
    "name": "ipython",
    "version": 3
   },
   "file_extension": ".py",
   "mimetype": "text/x-python",
   "name": "python",
   "nbconvert_exporter": "python",
   "pygments_lexer": "ipython3",
   "version": "3.10.10"
  }
 },
 "nbformat": 4,
 "nbformat_minor": 2
}
