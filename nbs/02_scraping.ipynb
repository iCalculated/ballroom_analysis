{
 "cells": [
  {
   "cell_type": "markdown",
   "metadata": {},
   "source": [
    "# scraping\n",
    "\n",
    "> Scraping from o2cm"
   ]
  },
  {
   "cell_type": "code",
   "execution_count": 2,
   "metadata": {},
   "outputs": [],
   "source": [
    "#| default_exp scoring"
   ]
  },
  {
   "cell_type": "code",
   "execution_count": 88,
   "metadata": {},
   "outputs": [],
   "source": [
    "#| hide\n",
    "import requests\n",
    "from bs4 import BeautifulSoup\n",
    "from typing import List, Tuple, NamedTuple"
   ]
  },
  {
   "cell_type": "code",
   "execution_count": 128,
   "metadata": {},
   "outputs": [
    {
     "name": "stdout",
     "output_type": "stream",
     "text": [
      "Amateur Collegiate Gold Standard\n",
      "Amateur Collegiate Silver Rhythm\n",
      "Amateur Collegiate Gold Rhythm\n",
      "Amateur Adult Silver Rhythm\n",
      "Amateur Collegiate Silver Standard\n",
      "Amateur Collegiate Silver Intl. Tango\n",
      "Amateur Collegiate All Syllabus Standard\n",
      "Amateur Adult Silver Intl. V. Waltz\n",
      "Amateur Adult Silver Standard\n",
      "Amateur Adult Silver Intl. Tango\n",
      "Amateur Collegiate Silver Smooth\n",
      "Amateur Adult Gold Smooth\n",
      "Amateur Collegiate Gold Smooth\n",
      "Amateur Adult Novice Smooth\n",
      "Amateur Adult Silver Latin\n",
      "Amateur Collegiate Silver Latin\n",
      "Amateur Collegiate Bronze Latin\n",
      "Amateur Adult Bronze 1 Latin\n",
      "Amateur Adult Bronze Latin\n"
     ]
    }
   ],
   "source": [
    "#| export\n",
    "\n",
    "class Event(NamedTuple):\n",
    "    division: str\n",
    "    level: str\n",
    "    event: str\n",
    "\n",
    "    number: int\n",
    "\n",
    "    def __str__(self):\n",
    "        return f\"{self.division} {self.level} {self.event}\"\n",
    "\n",
    "def parse_event_name(event_name):\n",
    "    words = event_name.split()\n",
    "    number = int(words[0][:-1])\n",
    "    division = ' '.join(words[1:3])\n",
    "    level = ' '.join(words[3:5]) if words[4].isdigit() else words[3]\n",
    "    event = ' '.join(words[5:]) if words[4].isdigit() else ' '.join(words[4:])\n",
    "    return Event(number=number, division=division, level=level, event=event)\n",
    "\n",
    "event_names = ['9) Amateur Collegiate Gold Standard', '19) Amateur Collegiate Silver Rhythm', '4) Amateur Collegiate Gold Rhythm', '10) Amateur Adult Silver Rhythm', '2) Amateur Collegiate Silver Standard', '3) Amateur Collegiate Silver Intl. Tango', '4) Amateur Collegiate All Syllabus Standard', '10) Amateur Adult Silver Intl. V. Waltz', '3) Amateur Adult Silver Standard', '3) Amateur Adult Silver Intl. Tango', '11) Amateur Collegiate Silver Smooth', '2) Amateur Adult Gold Smooth', '1) Amateur Collegiate Gold Smooth', '6) Amateur Adult Novice Smooth', '23) Amateur Adult Silver Latin', '9) Amateur Collegiate Silver Latin', '8) Amateur Collegiate Bronze Latin', '15) Amateur Adult Bronze 1 Latin', '8) Amateur Adult Bronze Latin']\n",
    "for name in event_names:\n",
    "    print(parse_event_name(name))"
   ]
  },
  {
   "cell_type": "code",
   "execution_count": 130,
   "metadata": {},
   "outputs": [],
   "source": [
    "#| export\n",
    "\n",
    "headers = {\n",
    "    'User-Agent': 'Mozilla/5.0 (Windows NT 10.0; Win64; x64) AppleWebKit/537.36 (KHTML, like Gecko) Chrome/58.0.3029.110 Safari/537.3'\n",
    "}\n",
    "\n",
    "def get(url, **kwargs):\n",
    "    return requests.get(url, headers=headers, **kwargs)\n",
    "\n",
    "def get_event_html(name: str) -> BeautifulSoup:\n",
    "    first, last = name.split(\" \", 1)\n",
    "    url = f\"https://results.o2cm.com/individual.asp?szLast={last}&szFirst={first}\"\n",
    "    page: requests.Response = get(url)\n",
    "    soup = BeautifulSoup(page.content, \"html.parser\")\n",
    "    return soup\n",
    "\n",
    "soup = get_event_html(\"Sasha Hydrie\")"
   ]
  },
  {
   "cell_type": "code",
   "execution_count": 15,
   "metadata": {},
   "outputs": [
    {
     "data": {
      "text/plain": [
       "\n",
       "<!DOCTYPE html PUBLIC \"-//W3C//DTD XHTML 1.0 Strict//EN\" \"http://www.w3.org/TR/xhtml1/DTD/xhtml1-strict.dtd\">\n",
       "\n",
       "<html xml:lang=\"en\" xmlns=\"http://www.w3.org/1999/xhtml\">\n",
       "<meta content=\"noindex, nofollow\" name=\"robots\"/>\n",
       "<head>\n",
       "<link href=\"compdb.css\" rel=\"stylesheet\"/>\n",
       "</head>\n",
       "<body alink=\"#000000\" bgcolor=\"#FFFFFF\" class=\"t1n\" link=\"#000000\" text=\"#000000\" vlink=\"#0000cc\">\n",
       "<div align=\"center\" class=\"vs\">\n",
       "<table width=\"320\">\n",
       "<tr>\n",
       "<td align=\"center\">\n",
       "<span class=\"h2\">Sasha Hydrie</span></td></tr><tr><td class=\"t1n\"><br/><b>04-01-22 - USA DANCE National DanceSport Championships</b></td></tr><tr><td class=\"t1n\">   <a href=\"http://Results.o2cm.com/scoresheet3.asp?event=usa22&amp;heatid=4042284A\">66) Amateur Adult Bronze Amer. Swing</a></td></tr><tr><td class=\"t1n\">   <a href=\"http://Results.o2cm.com/scoresheet3.asp?event=usa22&amp;heatid=40422840\">66) Amateur Adult Bronze Rhythm</a></td></tr><tr><td class=\"t1n\">   <a href=\"http://Results.o2cm.com/scoresheet3.asp?event=usa22&amp;heatid=40322839\">66) Amateur Collegiate Bronze Amer. Tango</a></td></tr><tr><td class=\"t1n\">   <a href=\"http://Results.o2cm.com/scoresheet3.asp?event=usa22&amp;heatid=40322830\">55) Amateur Collegiate Bronze Smooth</a></td></tr><tr><td class=\"t1n\">   <a href=\"http://Results.o2cm.com/scoresheet3.asp?event=usa22&amp;heatid=4032281B\">40) Amateur Collegiate Bronze Intl. Foxtrot</a></td></tr><tr><td class=\"t1n\">   <a href=\"http://Results.o2cm.com/scoresheet3.asp?event=usa22&amp;heatid=40322810\">58) Amateur Collegiate Bronze Standard</a></td></tr><tr><td class=\"t1n\">   <a href=\"http://Results.o2cm.com/scoresheet3.asp?event=usa22&amp;heatid=40323040\">18) Amateur Collegiate Silver Rhythm</a></td></tr><tr><td class=\"t1n\">   <a href=\"http://Results.o2cm.com/scoresheet3.asp?event=usa22&amp;heatid=40323030\">22) Amateur Collegiate Silver Smooth</a></td></tr><tr><td class=\"t1n\">   <a href=\"http://Results.o2cm.com/scoresheet3.asp?event=usa22&amp;heatid=4042281B\">31) Amateur Adult Bronze Intl. Foxtrot</a></td></tr><tr><td class=\"t1n\">   <a href=\"http://Results.o2cm.com/scoresheet3.asp?event=usa22&amp;heatid=40422810\">52) Amateur Adult Bronze Standard</a></td></tr><tr><td class=\"t1n\">   <a href=\"http://Results.o2cm.com/scoresheet3.asp?event=usa22&amp;heatid=40422830\">41) Amateur Adult Bronze Smooth</a></td></tr><tr><td class=\"t1n\">   <a href=\"http://Results.o2cm.com/scoresheet3.asp?event=usa22&amp;heatid=40422839\">31) Amateur Adult Bronze Amer. Tango</a></td></tr><tr><td class=\"t1n\">   <a href=\"http://Results.o2cm.com/scoresheet3.asp?event=usa22&amp;heatid=40322840\">42) Amateur Collegiate Bronze Rhythm</a></td></tr><tr><td class=\"t1n\">   <a href=\"http://Results.o2cm.com/scoresheet3.asp?event=usa22&amp;heatid=4032284A\">20) Amateur Collegiate Bronze Amer. Swing</a></td></tr><tr><td class=\"t1n\"><br/><b>11-12-22 - Badger Ballroom Dancesport Classic</b></td></tr><tr><td class=\"t1n\">   <a href=\"http://Results.o2cm.com/scoresheet3.asp?event=bds22&amp;heatid=40323E1A\">18) Amateur Collegiate Syllabus Intl. V. Waltz</a></td></tr><tr><td class=\"t1n\">   <a href=\"http://Results.o2cm.com/scoresheet3.asp?event=bds22&amp;heatid=40323031\">29) Amateur Collegiate Silver Smooth</a></td></tr><tr><td class=\"t1n\">   <a href=\"http://Results.o2cm.com/scoresheet3.asp?event=bds22&amp;heatid=40323030\">19) Amateur Collegiate Silver Smooth</a></td></tr><tr><td class=\"t1n\">   <a href=\"http://Results.o2cm.com/scoresheet3.asp?event=bds22&amp;heatid=40322841\">23) Amateur Collegiate Bronze Rhythm</a></td></tr><tr><td class=\"t1n\">   <a href=\"http://Results.o2cm.com/scoresheet3.asp?event=bds22&amp;heatid=40322840\">30) Amateur Collegiate Bronze Rhythm</a></td></tr><tr><td class=\"t1n\">   <a href=\"http://Results.o2cm.com/scoresheet3.asp?event=bds22&amp;heatid=40322830\">22) Amateur Collegiate Bronze Smooth</a></td></tr><tr><td class=\"t1n\">   <a href=\"http://Results.o2cm.com/scoresheet3.asp?event=bds22&amp;heatid=40323011\">34) Amateur Collegiate Silver Standard</a></td></tr><tr><td class=\"t1n\">   <a href=\"http://Results.o2cm.com/scoresheet3.asp?event=bds22&amp;heatid=40322811\">31) Amateur Collegiate Bronze Standard</a></td></tr><tr><td class=\"t1n\">   <a href=\"http://Results.o2cm.com/scoresheet3.asp?event=bds22&amp;heatid=40323010\">27) Amateur Collegiate Silver Standard</a></td></tr><tr><td class=\"t1n\">   <a href=\"http://Results.o2cm.com/scoresheet3.asp?event=bds22&amp;heatid=40322831\">18) Amateur Collegiate Bronze Smooth</a></td></tr><tr><td class=\"t1n\">   <a href=\"http://Results.o2cm.com/scoresheet3.asp?event=bds22&amp;heatid=40322810\">15) Amateur Collegiate Bronze Standard</a></td></tr><tr><td class=\"t1n\"><br/><b>03-17-23 - USA DANCE National DanceSport Championships</b></td></tr><tr><td class=\"t1n\">   <a href=\"http://Results.o2cm.com/scoresheet3.asp?event=usa23&amp;heatid=40323020\">14) Amateur Collegiate Silver Latin</a></td></tr><tr><td class=\"t1n\">   <a href=\"http://Results.o2cm.com/scoresheet3.asp?event=usa23&amp;heatid=40322820\">9) Amateur Collegiate Bronze Latin</a></td></tr><tr><td class=\"t1n\">   <a href=\"http://Results.o2cm.com/scoresheet3.asp?event=usa23&amp;heatid=40322829\">4) Amateur Collegiate Bronze Intl. Samba</a></td></tr><tr><td class=\"t1n\">   <a href=\"http://Results.o2cm.com/scoresheet3.asp?event=usa23&amp;heatid=4032282C\">8) Amateur Collegiate Bronze Intl. Jive</a></td></tr><tr><td class=\"t1n\">   <a href=\"http://Results.o2cm.com/scoresheet3.asp?event=usa23&amp;heatid=40322830\">14) Amateur Collegiate Bronze Smooth</a></td></tr><tr><td class=\"t1n\">   <a href=\"http://Results.o2cm.com/scoresheet3.asp?event=usa23&amp;heatid=40322839\">10) Amateur Collegiate Bronze Amer. Tango</a></td></tr><tr><td class=\"t1n\">   <a href=\"http://Results.o2cm.com/scoresheet3.asp?event=usa23&amp;heatid=4032283B\">14) Amateur Collegiate Bronze Amer. V. Waltz</a></td></tr><tr><td class=\"t1n\">   <a href=\"http://Results.o2cm.com/scoresheet3.asp?event=usa23&amp;heatid=40323030\">17) Amateur Collegiate Silver Smooth</a></td></tr><tr><td class=\"t1n\">   <a href=\"http://Results.o2cm.com/scoresheet3.asp?event=usa23&amp;heatid=40322810\">19) Amateur Collegiate Bronze Standard</a></td></tr><tr><td class=\"t1n\">   <a href=\"http://Results.o2cm.com/scoresheet3.asp?event=usa23&amp;heatid=4032281B\">13) Amateur Collegiate Bronze Intl. Foxtrot</a></td></tr><tr><td class=\"t1n\">   <a href=\"http://Results.o2cm.com/scoresheet3.asp?event=usa23&amp;heatid=40322819\">12) Amateur Collegiate Bronze Intl. Tango</a></td></tr><tr><td class=\"t1n\">   <a href=\"http://Results.o2cm.com/scoresheet3.asp?event=usa23&amp;heatid=4032284A\">14) Amateur Collegiate Bronze Amer. Swing</a></td></tr><tr><td class=\"t1n\">   <a href=\"http://Results.o2cm.com/scoresheet3.asp?event=usa23&amp;heatid=4032284B\">6) Amateur Collegiate Bronze Amer. Bolero</a></td></tr><tr><td class=\"t1n\">   <a href=\"http://Results.o2cm.com/scoresheet3.asp?event=usa23&amp;heatid=40322840\">13) Amateur Collegiate Bronze Rhythm</a></td></tr><tr><td class=\"t1n\">   <a href=\"http://Results.o2cm.com/scoresheet3.asp?event=usa23&amp;heatid=40323040\">17) Amateur Collegiate Silver Rhythm</a></td></tr><tr><td class=\"t1n\">   <a href=\"http://Results.o2cm.com/scoresheet3.asp?event=usa23&amp;heatid=4032304B\">8) Amateur Collegiate Silver Amer. Bolero</a></td></tr><tr><td class=\"t1n\">   <a href=\"http://Results.o2cm.com/scoresheet3.asp?event=usa23&amp;heatid=EE322871\">4) ~-- Combine -- Collegiate Bronze 6-Dance TM</a></td></tr><tr><td class=\"t1n\"><br/><b>11-11-23 - Badger Ballroom Dancesport Classic</b></td></tr><tr><td class=\"t1n\">   <a href=\"http://Results.o2cm.com/scoresheet3.asp?event=bds23&amp;heatid=40323E2B\">10) Amateur Collegiate Syllabus Intl. Paso Doble</a></td></tr><tr><td class=\"t1n\">   <a href=\"http://Results.o2cm.com/scoresheet3.asp?event=bds23&amp;heatid=40322840\">18) Amateur Collegiate Bronze Rhythm</a></td></tr><tr><td class=\"t1n\">   <a href=\"http://Results.o2cm.com/scoresheet3.asp?event=bds23&amp;heatid=40323011\">16) Amateur Collegiate Silver Standard</a></td></tr><tr><td class=\"t1n\">   <a href=\"http://Results.o2cm.com/scoresheet3.asp?event=bds23&amp;heatid=40323030\">17) Amateur Collegiate Silver Smooth</a></td></tr><tr><td class=\"t1n\">   <a href=\"http://Results.o2cm.com/scoresheet3.asp?event=bds23&amp;heatid=40323031\">24) Amateur Collegiate Silver Smooth</a></td></tr><tr><td class=\"t1n\">   <a href=\"http://Results.o2cm.com/scoresheet3.asp?event=bds23&amp;heatid=40322831\">8) Amateur Collegiate Bronze Smooth</a></td></tr><tr><td class=\"t1n\">   <a href=\"http://Results.o2cm.com/scoresheet3.asp?event=bds23&amp;heatid=40322830\">8) Amateur Collegiate Bronze Smooth</a></td></tr><tr><td class=\"t1n\">   <a href=\"http://Results.o2cm.com/scoresheet3.asp?event=bds23&amp;heatid=40322811\">11) Amateur Collegiate Bronze Standard</a></td></tr><tr><td class=\"t1n\">   <a href=\"http://Results.o2cm.com/scoresheet3.asp?event=bds23&amp;heatid=40322810\">6) Amateur Collegiate Bronze Standard</a></td></tr><tr><td class=\"t1n\">   <a href=\"http://Results.o2cm.com/scoresheet3.asp?event=bds23&amp;heatid=40323010\">8) Amateur Collegiate Silver Standard</a></td></tr><tr><td class=\"t1n\">   <a href=\"http://Results.o2cm.com/scoresheet3.asp?event=bds23&amp;heatid=40322841\">10) Amateur Collegiate Bronze Rhythm</a></td></tr><tr><td class=\"t1n\">   <a href=\"http://Results.o2cm.com/scoresheet3.asp?event=bds23&amp;heatid=40323040\">12) Amateur Collegiate Silver Rhythm</a></td></tr><tr><td class=\"t1n\">   <a href=\"http://Results.o2cm.com/scoresheet3.asp?event=bds23&amp;heatid=40323E4B\">7) Amateur Collegiate Syllabus Am. Bolero</a></td></tr><tr><td class=\"t1n\">   <a href=\"http://Results.o2cm.com/scoresheet3.asp?event=bds23&amp;heatid=40323041\">12) Amateur Collegiate Silver Rhythm</a></td></tr><tr><td class=\"t1n\">   <a href=\"http://Results.o2cm.com/scoresheet3.asp?event=bds23&amp;heatid=40322821\">11) Amateur Collegiate Bronze Latin</a></td></tr><tr><td class=\"t1n\">   <a href=\"http://Results.o2cm.com/scoresheet3.asp?event=bds23&amp;heatid=40322820\">12) Amateur Collegiate Bronze Latin</a></td></tr><tr><td class=\"t1n\">   <a href=\"http://Results.o2cm.com/scoresheet3.asp?event=bds23&amp;heatid=40323020\">10) Amateur Collegiate Silver Latin</a></td></tr><tr><td class=\"t1n\">   <a href=\"http://Results.o2cm.com/scoresheet3.asp?event=bds23&amp;heatid=40323021\">11) Amateur Collegiate Silver Latin</a></td></tr><tr><td class=\"t1n\"><br/><b>03-22-24 - USA DANCE National DanceSport Championships</b></td></tr><tr><td class=\"t1n\">   <a href=\"http://Results.o2cm.com/scoresheet3.asp?event=usa24&amp;heatid=40423019\">15) Amateur Adult Silver Intl. Tango</a></td></tr><tr><td class=\"t1n\">   <a href=\"http://Results.o2cm.com/scoresheet3.asp?event=usa24&amp;heatid=40422B20\">21) Amateur Adult Bronze 1 Latin</a></td></tr><tr><td class=\"t1n\">   <a href=\"http://Results.o2cm.com/scoresheet3.asp?event=usa24&amp;heatid=40323030\">30) Amateur Collegiate Silver Smooth</a></td></tr><tr><td class=\"t1n\">   <a href=\"http://Results.o2cm.com/scoresheet3.asp?event=usa24&amp;heatid=40323040\">15) Amateur Collegiate Silver Rhythm</a></td></tr><tr><td class=\"t1n\">   <a href=\"http://Results.o2cm.com/scoresheet3.asp?event=usa24&amp;heatid=4032304B\">15) Amateur Collegiate Silver Amer. Bolero</a></td></tr><tr><td class=\"t1n\">   <a href=\"http://Results.o2cm.com/scoresheet3.asp?event=usa24&amp;heatid=40423040\">7) Amateur Adult Silver Rhythm</a></td></tr><tr><td class=\"t1n\">   <a href=\"http://Results.o2cm.com/scoresheet3.asp?event=usa24&amp;heatid=4042304B\">5) Amateur Adult Silver Amer. Bolero</a></td></tr><tr><td class=\"t1n\">   <a href=\"http://Results.o2cm.com/scoresheet3.asp?event=usa24&amp;heatid=40323010\">13) Amateur Collegiate Silver Standard</a></td></tr><tr><td class=\"t1n\">   <a href=\"http://Results.o2cm.com/scoresheet3.asp?event=usa24&amp;heatid=40423010\">11) Amateur Adult Silver Standard</a></td></tr><tr><td class=\"t1n\">   <a href=\"http://Results.o2cm.com/scoresheet3.asp?event=usa24&amp;heatid=40423030\">16) Amateur Adult Silver Smooth</a></td></tr><tr><td class=\"t1n\">   <a href=\"http://Results.o2cm.com/scoresheet3.asp?event=usa24&amp;heatid=40322B20\">19) Amateur Collegiate Bronze 1 Latin</a></td></tr><tr><td class=\"t1n\">   <a href=\"http://Results.o2cm.com/scoresheet3.asp?event=usa24&amp;heatid=40322820\">8) Amateur Collegiate Bronze Latin</a></td></tr><tr><td class=\"t1n\">   <a href=\"http://Results.o2cm.com/scoresheet3.asp?event=usa24&amp;heatid=40422820\">11) Amateur Adult Bronze Latin</a></td></tr><tr><td class=\"t1n\">\n",
       "</td>\n",
       "</tr>\n",
       "<tr><td> </td></tr>\n",
       "<tr><td> </td></tr>\n",
       "</table>\n",
       "<form action=\"individual.asp\" method=\"post\" name=\"ReSearch\">\n",
       "<h2>O<sup>2</sup>CM Individual competitor Results Search on AWS</h2>\n",
       "<b>Search:</b> (Spelling must be exact) <br/>\n",
       "First: <input id=\"szFirst\" name=\"szFirst\" style=\"WIDTH: 100px;\" value=\"Sasha\"/>\n",
       "Last: <input id=\"szLast\" name=\"szLast\" style=\"WIDTH: 100px;\" value=\"Hydrie\"/>\n",
       "<input id=\"DoSearch\" name=\"DoSearch\" style=\"WIDTH: 60px;\" type=\"submit\" value=\"Search\"/>\n",
       "</form>\n",
       "<br/>\n",
       "<b>Disclaimer:</b><br/>This historic data is provided by organizers and scrutineers and presented 'as is'.<br/><br/>\n",
       "Please do not request modification of any registration errors.<br/><br/>\n",
       "Be aware that your name may not be unique, and you may see competitions listed that you did not dance.\n",
       "Results will not appear if the name requested does not exactly match entries. Please try different spellings.<br/><br/>\n",
       "If you \"double entered\" at a competition, only your first \"competitor record\" results will be displayed.<br/><br/>\n",
       "</div>\n",
       "</body>\n",
       "</html>"
      ]
     },
     "execution_count": 15,
     "metadata": {},
     "output_type": "execute_result"
    }
   ],
   "source": [
    "#| hide\n",
    "\n",
    "soup"
   ]
  },
  {
   "cell_type": "code",
   "execution_count": 127,
   "metadata": {},
   "outputs": [
    {
     "data": {
      "text/plain": [
       "[(Event(division='Amateur Collegiate', level='Gold', event='Standard', number=9),\n",
       "  'http://Results.o2cm.com/scoresheet3.asp?event=usa24&heatid=40323810'),\n",
       " (Event(division='Amateur Collegiate', level='Silver', event='Rhythm', number=19),\n",
       "  'http://Results.o2cm.com/scoresheet3.asp?event=usa24&heatid=40323040'),\n",
       " (Event(division='Amateur Collegiate', level='Gold', event='Rhythm', number=4),\n",
       "  'http://Results.o2cm.com/scoresheet3.asp?event=usa24&heatid=40323840'),\n",
       " (Event(division='Amateur Adult', level='Silver', event='Rhythm', number=10),\n",
       "  'http://Results.o2cm.com/scoresheet3.asp?event=usa24&heatid=40423040'),\n",
       " (Event(division='Amateur Collegiate', level='Silver', event='Standard', number=2),\n",
       "  'http://Results.o2cm.com/scoresheet3.asp?event=usa24&heatid=40323010'),\n",
       " (Event(division='Amateur Collegiate', level='Silver', event='Intl. Tango', number=3),\n",
       "  'http://Results.o2cm.com/scoresheet3.asp?event=usa24&heatid=40323019'),\n",
       " (Event(division='Amateur Collegiate', level='All', event='Syllabus Standard', number=4),\n",
       "  'http://Results.o2cm.com/scoresheet3.asp?event=usa24&heatid=40328810'),\n",
       " (Event(division='Amateur Adult', level='Silver', event='Intl. V. Waltz', number=10),\n",
       "  'http://Results.o2cm.com/scoresheet3.asp?event=usa24&heatid=4042301A'),\n",
       " (Event(division='Amateur Adult', level='Silver', event='Standard', number=3),\n",
       "  'http://Results.o2cm.com/scoresheet3.asp?event=usa24&heatid=40423010'),\n",
       " (Event(division='Amateur Adult', level='Silver', event='Intl. Tango', number=3),\n",
       "  'http://Results.o2cm.com/scoresheet3.asp?event=usa24&heatid=40423019'),\n",
       " (Event(division='Amateur Collegiate', level='Silver', event='Smooth', number=11),\n",
       "  'http://Results.o2cm.com/scoresheet3.asp?event=usa24&heatid=40323030'),\n",
       " (Event(division='Amateur Adult', level='Gold', event='Smooth', number=2),\n",
       "  'http://Results.o2cm.com/scoresheet3.asp?event=usa24&heatid=40423830'),\n",
       " (Event(division='Amateur Collegiate', level='Gold', event='Smooth', number=1),\n",
       "  'http://Results.o2cm.com/scoresheet3.asp?event=usa24&heatid=40323830'),\n",
       " (Event(division='Amateur Adult', level='Novice', event='Smooth', number=6),\n",
       "  'http://Results.o2cm.com/scoresheet3.asp?event=usa24&heatid=40428130'),\n",
       " (Event(division='Amateur Adult', level='Silver', event='Latin', number=23),\n",
       "  'http://Results.o2cm.com/scoresheet3.asp?event=usa24&heatid=40423020'),\n",
       " (Event(division='Amateur Collegiate', level='Silver', event='Latin', number=9),\n",
       "  'http://Results.o2cm.com/scoresheet3.asp?event=usa24&heatid=40323020'),\n",
       " (Event(division='Amateur Collegiate', level='Bronze', event='Latin', number=8),\n",
       "  'http://Results.o2cm.com/scoresheet3.asp?event=usa24&heatid=40322820'),\n",
       " (Event(division='Amateur Adult', level='Bronze 1', event='Latin', number=15),\n",
       "  'http://Results.o2cm.com/scoresheet3.asp?event=usa24&heatid=40422B20'),\n",
       " (Event(division='Amateur Adult', level='Bronze', event='Latin', number=8),\n",
       "  'http://Results.o2cm.com/scoresheet3.asp?event=usa24&heatid=40422820')]"
      ]
     },
     "execution_count": 127,
     "metadata": {},
     "output_type": "execute_result"
    }
   ],
   "source": [
    "#| export\n",
    "\n",
    "def extract_events_from_html(soup: BeautifulSoup) -> List[Tuple[str, str]]:\n",
    "    events = []\n",
    "    include_events = False\n",
    "\n",
    "    for tag in soup.find_all(['b', 'a']):  \n",
    "        if tag.name == 'b' and tag.text == '03-22-24 - USA DANCE National DanceSport Championships':\n",
    "            include_events = True\n",
    "        elif tag.name == 'b' and include_events:\n",
    "            break \n",
    "        elif tag.name == 'a' and include_events:\n",
    "            events.append((parse_event_name(tag.text), tag.get('href')))\n",
    "\n",
    "    return events\n",
    "\n",
    "events = extract_events_from_html(soup)\n",
    "events"
   ]
  },
  {
   "cell_type": "code",
   "execution_count": 39,
   "metadata": {},
   "outputs": [],
   "source": [
    "#| export \n",
    "\n",
    "class Result(NamedTuple):\n",
    "    callbacks: int\n",
    "    placement: float | None"
   ]
  },
  {
   "cell_type": "code",
   "execution_count": 98,
   "metadata": {},
   "outputs": [],
   "source": [
    "#| export\n",
    "\n",
    "def extract_max_callbacks(soup: BeautifulSoup) -> int:\n",
    "    select_element = soup.find('select', {'id': 'selCount'})\n",
    "    possible_callbacks = len(select_element.find_all('option')) - 1 if select_element else 0\n",
    "    return possible_callbacks\n",
    "\n",
    "def extract_placement(soup: BeautifulSoup, name: str, verbose=False) -> float | None: \n",
    "    \"\"\"assumes that soup is a finals page\"\"\"\n",
    "    couple_number = None\n",
    "    for link in soup.find_all('a'):\n",
    "        if link.text == name:\n",
    "            parent_td = link.find_parent('td')  # Parent <td> which should have sibling with couple number\n",
    "            if parent_td:\n",
    "                # The immediate previous sibling <td> of `parent_td` contains the couple number\n",
    "                prev_td = parent_td.find_previous_sibling(\"td\", class_=\"t1b\")\n",
    "                if prev_td:\n",
    "                    couple_number = prev_td.text.strip()\n",
    "                    if verbose:\n",
    "                        print(f\"Found {couple_number} associated with {name}\")\n",
    "                    break\n",
    "    else:\n",
    "        if verbose:\n",
    "            print(f\"Dancer {name} didn't final\")\n",
    "        return None\n",
    "\n",
    "    results_table = soup.find('table', class_='t1n') \n",
    "    for row in results_table.find_all('tr'):\n",
    "        cells = row.find_all('td') \n",
    "        if cells and cells[0].get_text(strip=True) == couple_number:\n",
    "            averaged_place = cells[-2].get_text(strip=True)  \n",
    "            return float(averaged_place)"
   ]
  },
  {
   "cell_type": "code",
   "execution_count": 84,
   "metadata": {},
   "outputs": [
    {
     "name": "stdout",
     "output_type": "stream",
     "text": [
      "Found 528 associated with Khalid Ali\n"
     ]
    },
    {
     "data": {
      "text/plain": [
       "3.5"
      ]
     },
     "execution_count": 84,
     "metadata": {},
     "output_type": "execute_result"
    }
   ],
   "source": [
    "\n",
    "url = \"https://results.o2cm.com/scoresheet3.asp?event=usa24&heatid=40423019\"\n",
    "name = \"Khalid Ali\"\n",
    "\n",
    "initial_res = get(url)\n",
    "soup = BeautifulSoup(initial_res.content, \"html.parser\")\n",
    "\n",
    "extract_placement(soup, name)\n"
   ]
  },
  {
   "cell_type": "code",
   "execution_count": 85,
   "metadata": {},
   "outputs": [
    {
     "name": "stdout",
     "output_type": "stream",
     "text": [
      "Found 528 associated with Khalid Ali\n"
     ]
    },
    {
     "data": {
      "text/plain": [
       "Result(callbacks=2, placement=3.5)"
      ]
     },
     "execution_count": 85,
     "metadata": {},
     "output_type": "execute_result"
    }
   ],
   "source": [
    "#| export\n",
    "\n",
    "def get_event_result(name: str, url: str) -> Result:\n",
    "    query_string = url.split(\"?\")[1]\n",
    "    key_value_pairs = [query.split(\"=\") for query in query_string.split(\"&\")]\n",
    "    data = {key: value for key, value in key_value_pairs}\n",
    "\n",
    "    # CR shy: factor session creation out\n",
    "    session = requests.Session()\n",
    "    session.headers.update(headers)\n",
    "\n",
    "    initial_res = session.get(url)\n",
    "    soup = BeautifulSoup(initial_res.content, \"html.parser\")\n",
    "\n",
    "    if (place := extract_placement(soup, name)) is not None:\n",
    "        return Result(callbacks=extract_max_callbacks(soup), placement=place)\n",
    "\n",
    "\n",
    "    url = \"https://results.o2cm.com/scoresheet3.asp\"\n",
    "    # data = {\n",
    "    #     \"heatid\": \"40423019\",  \n",
    "    #     \"event\": \"usa24\",      \n",
    "    #     \"selCount\": \"1\"        # 0: final, 1: semi final, 2: quarter final, etc\n",
    "    # }\n",
    "\n",
    "    response = session.post(url, data=data)\n",
    "\n",
    "    # Process the response\n",
    "    soup = BeautifulSoup(response.content, 'html.parser')\n",
    "    raise NotImplementedError()\n",
    "\n",
    "get_event_result(\"Khalid Ali\", \", headers=headershttps://results.o2cm.com/scoresheet3.asp?event=usa24&heatid=40423019\")\n",
    "    \n"
   ]
  },
  {
   "cell_type": "code",
   "execution_count": 28,
   "metadata": {},
   "outputs": [],
   "source": [
    "\n",
    "url = \"https://results.o2cm.com/scoresheet3.asp\"\n",
    "data = {\n",
    "    \"heatid\": \"40423019\",  # Hidden input for the specific heat\n",
    "    \"event\": \"usa24\",      # Hidden input for the specific event\n",
    "    \"selCount\": \"1\"        # Dropdown selection for Semi-Final\n",
    "}\n",
    "\n",
    "# Send the POST request\n",
    "response = requests.post(url, data=data)\n",
    "\n",
    "# Process the response with BeautifulSoup or another tool if needed\n",
    "soup = BeautifulSoup(response.content, 'html.parser')\n"
   ]
  },
  {
   "cell_type": "code",
   "execution_count": 37,
   "metadata": {},
   "outputs": [
    {
     "name": "stdout",
     "output_type": "stream",
     "text": [
      "Carmen Schultz is in the results\n"
     ]
    }
   ],
   "source": [
    "name = \"Carmen Schultz\"\n",
    "if name in soup.get_text():\n",
    "    print(f\"{name} is in the results\")\n",
    "else:\n",
    "    print(f\"{name} is not in the results\")"
   ]
  },
  {
   "cell_type": "code",
   "execution_count": null,
   "metadata": {},
   "outputs": [],
   "source": [
    "#| hide\n",
    "import nbdev; nbdev.nbdev_export()"
   ]
  },
  {
   "cell_type": "code",
   "execution_count": 102,
   "metadata": {},
   "outputs": [],
   "source": [
    "soup = get_event_html(\"Khalid Ali\")\n",
    "events = extract_events_from_html(soup)"
   ]
  },
  {
   "cell_type": "code",
   "execution_count": 104,
   "metadata": {},
   "outputs": [
    {
     "name": "stdout",
     "output_type": "stream",
     "text": [
      "No result for 9) Amateur Collegiate Gold Standard\n",
      "No result for 19) Amateur Collegiate Silver Rhythm\n",
      "In `4) Amateur Collegiate Gold Rhythm`, Khalid got 0 callbacks and placed 6.0\n",
      "No result for 10) Amateur Adult Silver Rhythm\n",
      "In `2) Amateur Collegiate Silver Standard`, Khalid got 2 callbacks and placed 2.0\n",
      "In `3) Amateur Collegiate Silver Intl. Tango`, Khalid got 2 callbacks and placed 3.0\n",
      "In `4) Amateur Collegiate All Syllabus Standard`, Khalid got 2 callbacks and placed 4.0\n",
      "No result for 10) Amateur Adult Silver Intl. V. Waltz\n",
      "In `3) Amateur Adult Silver Standard`, Khalid got 2 callbacks and placed 3.0\n",
      "In `3) Amateur Adult Silver Intl. Tango`, Khalid got 2 callbacks and placed 3.5\n",
      "No result for 11) Amateur Collegiate Silver Smooth\n",
      "In `2) Amateur Adult Gold Smooth`, Khalid got 2 callbacks and placed 2.0\n",
      "In `1) Amateur Collegiate Gold Smooth`, Khalid got 1 callbacks and placed 1.0\n",
      "In `6) Amateur Adult Novice Smooth`, Khalid got 2 callbacks and placed 3.0\n",
      "No result for 23) Amateur Adult Silver Latin\n",
      "No result for 9) Amateur Collegiate Silver Latin\n",
      "No result for 8) Amateur Collegiate Bronze Latin\n",
      "No result for 15) Amateur Adult Bronze 1 Latin\n",
      "No result for 8) Amateur Adult Bronze Latin\n"
     ]
    }
   ],
   "source": [
    "for event_name, event_url in events:\n",
    "    try:\n",
    "        result = get_event_result(\"Khalid Ali\", event_url)\n",
    "        print(f\"In `{event_name}`, Khalid got {result.callbacks} callbacks and placed {result.placement}\")\n",
    "    except:\n",
    "        print(f\"No result for {event_name}\")\n",
    "        continue"
   ]
  }
 ],
 "metadata": {
  "kernelspec": {
   "display_name": "env",
   "language": "python",
   "name": "python3"
  },
  "language_info": {
   "codemirror_mode": {
    "name": "ipython",
    "version": 3
   },
   "file_extension": ".py",
   "mimetype": "text/x-python",
   "name": "python",
   "nbconvert_exporter": "python",
   "pygments_lexer": "ipython3",
   "version": "3.10.10"
  }
 },
 "nbformat": 4,
 "nbformat_minor": 2
}
