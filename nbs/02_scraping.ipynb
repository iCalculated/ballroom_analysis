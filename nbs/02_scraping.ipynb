{
 "cells": [
  {
   "cell_type": "markdown",
   "metadata": {},
   "source": [
    "# scraping\n",
    "\n",
    "> Scraping from o2cm"
   ]
  },
  {
   "cell_type": "code",
   "execution_count": 6,
   "metadata": {},
   "outputs": [],
   "source": [
    "#| default_exp scoring"
   ]
  },
  {
   "cell_type": "code",
   "execution_count": 7,
   "metadata": {},
   "outputs": [],
   "source": [
    "#| hide\n",
    "import requests\n",
    "from bs4 import BeautifulSoup\n",
    "from typing import List, Tuple, NamedTuple"
   ]
  },
  {
   "cell_type": "code",
   "execution_count": 8,
   "metadata": {},
   "outputs": [
    {
     "name": "stdout",
     "output_type": "stream",
     "text": [
      "Amateur Collegiate Gold Standard\n",
      "Amateur Collegiate Silver Rhythm\n",
      "Amateur Collegiate Gold Rhythm\n",
      "Amateur Adult Silver Rhythm\n",
      "Amateur Collegiate Silver Standard\n",
      "Amateur Collegiate Silver Intl. Tango\n",
      "Amateur Collegiate All Syllabus Standard\n",
      "Amateur Adult Silver Intl. V. Waltz\n",
      "Amateur Adult Silver Standard\n",
      "Amateur Adult Silver Intl. Tango\n",
      "Amateur Collegiate Silver Smooth\n",
      "Amateur Adult Gold Smooth\n",
      "Amateur Collegiate Gold Smooth\n",
      "Amateur Adult Novice Smooth\n",
      "Amateur Adult Silver Latin\n",
      "Amateur Collegiate Silver Latin\n",
      "Amateur Collegiate Bronze Latin\n",
      "Amateur Adult Bronze 1 Latin\n",
      "Amateur Adult Bronze Latin\n"
     ]
    }
   ],
   "source": [
    "#| export\n",
    "\n",
    "class Event(NamedTuple):\n",
    "    division: str\n",
    "    level: str\n",
    "    event: str\n",
    "\n",
    "    number: int\n",
    "\n",
    "    def __str__(self):\n",
    "        return f\"{self.division} {self.level} {self.event}\"\n",
    "\n",
    "def parse_event_name(event_name):\n",
    "    words = event_name.split()\n",
    "    number = int(words[0][:-1])\n",
    "    division = ' '.join(words[1:3])\n",
    "    level = ' '.join(words[3:5]) if words[4].isdigit() else words[3]\n",
    "    event = ' '.join(words[5:]) if words[4].isdigit() else ' '.join(words[4:])\n",
    "    return Event(number=number, division=division, level=level, event=event)\n",
    "\n",
    "event_names = ['9) Amateur Collegiate Gold Standard', '19) Amateur Collegiate Silver Rhythm', '4) Amateur Collegiate Gold Rhythm', '10) Amateur Adult Silver Rhythm', '2) Amateur Collegiate Silver Standard', '3) Amateur Collegiate Silver Intl. Tango', '4) Amateur Collegiate All Syllabus Standard', '10) Amateur Adult Silver Intl. V. Waltz', '3) Amateur Adult Silver Standard', '3) Amateur Adult Silver Intl. Tango', '11) Amateur Collegiate Silver Smooth', '2) Amateur Adult Gold Smooth', '1) Amateur Collegiate Gold Smooth', '6) Amateur Adult Novice Smooth', '23) Amateur Adult Silver Latin', '9) Amateur Collegiate Silver Latin', '8) Amateur Collegiate Bronze Latin', '15) Amateur Adult Bronze 1 Latin', '8) Amateur Adult Bronze Latin']\n",
    "for name in event_names:\n",
    "    print(parse_event_name(name))"
   ]
  },
  {
   "cell_type": "code",
   "execution_count": 9,
   "metadata": {},
   "outputs": [],
   "source": [
    "#| export\n",
    "\n",
    "headers = {\n",
    "    'User-Agent': 'Mozilla/5.0 (Windows NT 10.0; Win64; x64) AppleWebKit/537.36 (KHTML, like Gecko) Chrome/58.0.3029.110 Safari/537.3'\n",
    "}\n",
    "\n",
    "def get(url, **kwargs):\n",
    "    return requests.get(url, headers=headers, **kwargs)\n",
    "\n",
    "def get_event_list_html(name: str) -> BeautifulSoup:\n",
    "    first, last = name.split(\" \", 1)\n",
    "    url = f\"https://results.o2cm.com/individual.asp?szLast={last}&szFirst={first}\"\n",
    "    page: requests.Response = get(url)\n",
    "    soup = BeautifulSoup(page.content, \"html.parser\")\n",
    "    return soup\n",
    "\n",
    "soup = get_event_list_html(\"Sasha Hydrie\")"
   ]
  },
  {
   "cell_type": "code",
   "execution_count": 10,
   "metadata": {},
   "outputs": [
    {
     "data": {
      "text/plain": [
       "[(Event(division='Amateur Adult', level='Silver', event='Intl. Tango', number=15),\n",
       "  'http://Results.o2cm.com/scoresheet3.asp?event=usa24&heatid=40423019'),\n",
       " (Event(division='Amateur Adult', level='Bronze 1', event='Latin', number=21),\n",
       "  'http://Results.o2cm.com/scoresheet3.asp?event=usa24&heatid=40422B20'),\n",
       " (Event(division='Amateur Collegiate', level='Silver', event='Smooth', number=30),\n",
       "  'http://Results.o2cm.com/scoresheet3.asp?event=usa24&heatid=40323030'),\n",
       " (Event(division='Amateur Collegiate', level='Silver', event='Rhythm', number=15),\n",
       "  'http://Results.o2cm.com/scoresheet3.asp?event=usa24&heatid=40323040'),\n",
       " (Event(division='Amateur Collegiate', level='Silver', event='Amer. Bolero', number=15),\n",
       "  'http://Results.o2cm.com/scoresheet3.asp?event=usa24&heatid=4032304B'),\n",
       " (Event(division='Amateur Adult', level='Silver', event='Rhythm', number=7),\n",
       "  'http://Results.o2cm.com/scoresheet3.asp?event=usa24&heatid=40423040'),\n",
       " (Event(division='Amateur Adult', level='Silver', event='Amer. Bolero', number=5),\n",
       "  'http://Results.o2cm.com/scoresheet3.asp?event=usa24&heatid=4042304B'),\n",
       " (Event(division='Amateur Collegiate', level='Silver', event='Standard', number=13),\n",
       "  'http://Results.o2cm.com/scoresheet3.asp?event=usa24&heatid=40323010'),\n",
       " (Event(division='Amateur Adult', level='Silver', event='Standard', number=11),\n",
       "  'http://Results.o2cm.com/scoresheet3.asp?event=usa24&heatid=40423010'),\n",
       " (Event(division='Amateur Adult', level='Silver', event='Smooth', number=16),\n",
       "  'http://Results.o2cm.com/scoresheet3.asp?event=usa24&heatid=40423030'),\n",
       " (Event(division='Amateur Collegiate', level='Bronze 1', event='Latin', number=19),\n",
       "  'http://Results.o2cm.com/scoresheet3.asp?event=usa24&heatid=40322B20'),\n",
       " (Event(division='Amateur Collegiate', level='Bronze', event='Latin', number=8),\n",
       "  'http://Results.o2cm.com/scoresheet3.asp?event=usa24&heatid=40322820'),\n",
       " (Event(division='Amateur Adult', level='Bronze', event='Latin', number=11),\n",
       "  'http://Results.o2cm.com/scoresheet3.asp?event=usa24&heatid=40422820')]"
      ]
     },
     "execution_count": 10,
     "metadata": {},
     "output_type": "execute_result"
    }
   ],
   "source": [
    "#| export\n",
    "\n",
    "def extract_events_from_html(soup: BeautifulSoup) -> List[Tuple[str, str]]:\n",
    "    events = []\n",
    "    include_events = False\n",
    "\n",
    "    for tag in soup.find_all(['b', 'a']):  \n",
    "        if tag.name == 'b' and tag.text == '03-22-24 - USA DANCE National DanceSport Championships':\n",
    "            include_events = True\n",
    "        elif tag.name == 'b' and include_events:\n",
    "            break \n",
    "        elif tag.name == 'a' and include_events:\n",
    "            events.append((parse_event_name(tag.text), tag.get('href')))\n",
    "\n",
    "    return events\n",
    "\n",
    "events = extract_events_from_html(soup)\n",
    "events"
   ]
  },
  {
   "cell_type": "code",
   "execution_count": 11,
   "metadata": {},
   "outputs": [],
   "source": [
    "#| export \n",
    "\n",
    "class Result(NamedTuple):\n",
    "    callbacks: int\n",
    "    placement: float | None"
   ]
  },
  {
   "cell_type": "code",
   "execution_count": 12,
   "metadata": {},
   "outputs": [],
   "source": [
    "#| export\n",
    "\n",
    "def extract_max_callbacks(soup: BeautifulSoup) -> int:\n",
    "    select_element = soup.find('select', {'id': 'selCount'})\n",
    "    possible_callbacks = len(select_element.find_all('option')) - 1 if select_element else 0\n",
    "    return possible_callbacks\n",
    "\n",
    "def extract_placement(soup: BeautifulSoup, name: str, verbose=False) -> float | None: \n",
    "    \"\"\"assumes that soup is a finals page\"\"\"\n",
    "    couple_number = None\n",
    "    for link in soup.find_all('a'):\n",
    "        if link.text == name:\n",
    "            parent_td = link.find_parent('td')  # Parent <td> which should have sibling with couple number\n",
    "            if parent_td:\n",
    "                # The immediate previous sibling <td> of `parent_td` contains the couple number\n",
    "                prev_td = parent_td.find_previous_sibling(\"td\", class_=\"t1b\")\n",
    "                if prev_td:\n",
    "                    couple_number = prev_td.text.strip()\n",
    "                    if verbose:\n",
    "                        print(f\"Found {couple_number} associated with {name}\")\n",
    "                    break\n",
    "    else:\n",
    "        if verbose:\n",
    "            print(f\"Dancer {name} didn't final\")\n",
    "        return None\n",
    "\n",
    "    results_table = soup.find('table', class_='t1n') \n",
    "    for row in results_table.find_all('tr'):\n",
    "        cells = row.find_all('td') \n",
    "        if cells and cells[0].get_text(strip=True) == couple_number:\n",
    "            averaged_place = cells[-2].get_text(strip=True)  \n",
    "            return float(averaged_place)"
   ]
  },
  {
   "cell_type": "code",
   "execution_count": 13,
   "metadata": {},
   "outputs": [
    {
     "data": {
      "text/plain": [
       "3.5"
      ]
     },
     "execution_count": 13,
     "metadata": {},
     "output_type": "execute_result"
    }
   ],
   "source": [
    "\n",
    "url = \"https://results.o2cm.com/scoresheet3.asp?event=usa24&heatid=40423019\"\n",
    "name = \"Khalid Ali\"\n",
    "\n",
    "initial_res = get(url)\n",
    "soup = BeautifulSoup(initial_res.content, \"html.parser\")\n",
    "\n",
    "extract_placement(soup, name)\n"
   ]
  },
  {
   "cell_type": "code",
   "execution_count": 20,
   "metadata": {},
   "outputs": [
    {
     "data": {
      "text/plain": [
       "Result(callbacks=2, placement=3.5)"
      ]
     },
     "execution_count": 20,
     "metadata": {},
     "output_type": "execute_result"
    }
   ],
   "source": [
    "#| export\n",
    "\n",
    "def get_event_result(name: str, url: str) -> Result:\n",
    "    query_string = url.split(\"?\")[1]\n",
    "    key_value_pairs = [query.split(\"=\") for query in query_string.split(\"&\")]\n",
    "    data: dict[str, str | int] = {key: value for key, value in key_value_pairs}\n",
    "\n",
    "    # CR shy: factor session creation out\n",
    "    session = requests.Session()\n",
    "    session.headers.update(headers)\n",
    "\n",
    "    initial_res = session.get(url)\n",
    "    soup = BeautifulSoup(initial_res.content, \"html.parser\")\n",
    "\n",
    "    possible_callbacks = extract_max_callbacks(soup)\n",
    "\n",
    "    if (place := extract_placement(soup, name)) is not None:\n",
    "        return Result(callbacks=possible_callbacks, placement=place)\n",
    "\n",
    "\n",
    "    url = \"https://results.o2cm.com/scoresheet3.asp\"\n",
    "    # CR shy: binary search eventually\n",
    "    for selector in range(1, possible_callbacks + 1):\n",
    "        data[\"selCount\"] = selector\n",
    "        response = session.post(url, data=data)\n",
    "\n",
    "        # Process the response\n",
    "        soup = BeautifulSoup(response.content, 'html.parser')\n",
    "\n",
    "        if name in soup.get_text():\n",
    "            return Result(callbacks=possible_callbacks - selector, placement=None)\n",
    "    else:\n",
    "        raise ValueError(f\"Couldn't find {name} in {url}\")\n",
    "\n",
    "get_event_result(\"Khalid Ali\", \"https://results.o2cm.com/scoresheet3.asp?event=usa24&heatid=40423019\")\n",
    "    \n"
   ]
  },
  {
   "cell_type": "code",
   "execution_count": null,
   "metadata": {},
   "outputs": [],
   "source": [
    "#| hide\n",
    "import nbdev; nbdev.nbdev_export()"
   ]
  },
  {
   "cell_type": "code",
   "execution_count": 23,
   "metadata": {},
   "outputs": [],
   "source": [
    "soup = get_event_list_html(\"Khalid Ali\")\n",
    "events = extract_events_from_html(soup)"
   ]
  },
  {
   "cell_type": "code",
   "execution_count": 26,
   "metadata": {},
   "outputs": [
    {
     "name": "stdout",
     "output_type": "stream",
     "text": [
      "In Amateur Collegiate Gold Standard, Khalid got 0 callbacks\n",
      "In Amateur Collegiate Silver Rhythm, Khalid got 0 callbacks\n",
      "In Amateur Collegiate Gold Rhythm, Khalid got 0 callbacks and placed 6.0\n",
      "In Amateur Adult Silver Rhythm, Khalid got 1 callbacks\n",
      "In Amateur Collegiate Silver Standard, Khalid got 2 callbacks and placed 2.0\n",
      "In Amateur Collegiate Silver Intl. Tango, Khalid got 2 callbacks and placed 3.0\n",
      "In Amateur Collegiate All Syllabus Standard, Khalid got 2 callbacks and placed 4.0\n",
      "In Amateur Adult Silver Intl. V. Waltz, Khalid got 1 callbacks\n",
      "In Amateur Adult Silver Standard, Khalid got 2 callbacks and placed 3.0\n",
      "In Amateur Adult Silver Intl. Tango, Khalid got 2 callbacks and placed 3.5\n",
      "In Amateur Collegiate Silver Smooth, Khalid got 2 callbacks\n",
      "In Amateur Adult Gold Smooth, Khalid got 2 callbacks and placed 2.0\n",
      "In Amateur Collegiate Gold Smooth, Khalid got 1 callbacks and placed 1.0\n",
      "In Amateur Adult Novice Smooth, Khalid got 2 callbacks and placed 3.0\n",
      "In Amateur Adult Silver Latin, Khalid got 0 callbacks\n",
      "In Amateur Collegiate Silver Latin, Khalid got 1 callbacks\n",
      "In Amateur Collegiate Bronze Latin, Khalid got 2 callbacks\n",
      "In Amateur Adult Bronze 1 Latin, Khalid got 1 callbacks\n",
      "In Amateur Adult Bronze Latin, Khalid got 2 callbacks\n"
     ]
    }
   ],
   "source": [
    "for event_name, event_url in events:\n",
    "    try:\n",
    "        result = get_event_result(\"Khalid Ali\", event_url)\n",
    "        if result.placement:\n",
    "            print(f\"In {event_name}, Khalid got {result.callbacks} callbacks and placed {result.placement}\")\n",
    "        else:\n",
    "            print(f\"In {event_name}, Khalid got {result.callbacks} callbacks\")\n",
    "    except:\n",
    "        print(f\"No result for {event_name}\")\n",
    "        continue"
   ]
  },
  {
   "cell_type": "code",
   "execution_count": null,
   "metadata": {},
   "outputs": [],
   "source": []
  }
 ],
 "metadata": {
  "kernelspec": {
   "display_name": "env",
   "language": "python",
   "name": "python3"
  },
  "language_info": {
   "codemirror_mode": {
    "name": "ipython",
    "version": 3
   },
   "file_extension": ".py",
   "mimetype": "text/x-python",
   "name": "python",
   "nbconvert_exporter": "python",
   "pygments_lexer": "ipython3",
   "version": "3.10.10"
  }
 },
 "nbformat": 4,
 "nbformat_minor": 2
}
