{
 "cells": [
  {
   "cell_type": "markdown",
   "metadata": {},
   "source": [
    "# scoring\n",
    "\n",
    "> Scoring rules for dancers and events"
   ]
  },
  {
   "cell_type": "code",
   "execution_count": null,
   "metadata": {},
   "outputs": [],
   "source": [
    "#| default_exp scoring"
   ]
  },
  {
   "cell_type": "code",
   "execution_count": 9,
   "metadata": {},
   "outputs": [],
   "source": [
    "#| export\n",
    "\n",
    "SCORES = [30, 25, 20, 15, 10, 5, 0, 0]\n",
    "CALLBACK_VALUE = 3 \n",
    "INT = type(0)\n",
    "\n",
    "def score(data):\n",
    "    # single-event\n",
    "    if type(data[0]) == INT:\n",
    "        print(\"detected single-event\")\n",
    "        data = [data]\n",
    "\n",
    "    # event-wise\n",
    "    if len(data[0]) == 3:\n",
    "        print(\"calculating event-wise score\")\n",
    "        return sum(SCORES[place-1] * mult + callbacks * 3 for (place, mult, callbacks) in data)\n",
    "    # matrix\n",
    "    else:\n",
    "        print(\"calculating overall score\")\n",
    "        placements, mults, callbacks = data\n",
    "        callback_contrib = (callbacks if type(callbacks) == INT else sum(callbacks)) * CALLBACK_VALUE \n",
    "        placement_contribs =  sum([SCORES[place - 1] * mult for (place, mult) in zip(placements, mults)])\n",
    "        return callback_contrib + placement_contribs\n",
    "\n",
    "score([1,3,2])"
   ]
  },
  {
   "cell_type": "code",
   "execution_count": null,
   "metadata": {},
   "outputs": [],
   "source": [
    "#| hide\n",
    "import nbdev; nbdev.nbdev_export()"
   ]
  }
 ],
 "metadata": {
  "kernelspec": {
   "display_name": "Python 3",
   "language": "python",
   "name": "python3"
  },
  "language_info": {
   "codemirror_mode": {
    "name": "ipython",
    "version": 3
   },
   "file_extension": ".py",
   "mimetype": "text/x-python",
   "name": "python",
   "nbconvert_exporter": "python",
   "pygments_lexer": "ipython3",
   "version": "3.10.10"
  }
 },
 "nbformat": 4,
 "nbformat_minor": 2
}
